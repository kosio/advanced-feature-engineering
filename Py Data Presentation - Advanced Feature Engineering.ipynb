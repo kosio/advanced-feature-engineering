{
 "cells": [
  {
   "cell_type": "markdown",
   "metadata": {
    "heading_collapsed": true
   },
   "source": [
    "#### Imports"
   ]
  },
  {
   "cell_type": "code",
   "execution_count": 1,
   "metadata": {
    "hidden": true
   },
   "outputs": [],
   "source": [
    "%matplotlib inline"
   ]
  },
  {
   "cell_type": "code",
   "execution_count": 2,
   "metadata": {
    "hidden": true
   },
   "outputs": [
    {
     "name": "stderr",
     "output_type": "stream",
     "text": [
      "/home/kv-dimitrov/.pyenv/versions/3.6.2/envs/generic/lib/python3.6/site-packages/statsmodels/tools/_testing.py:19: FutureWarning: pandas.util.testing is deprecated. Use the functions in the public API at pandas.testing instead.\n",
      "  import pandas.util.testing as tm\n"
     ]
    }
   ],
   "source": [
    "import pandas as pd\n",
    "import numpy as np\n",
    "import seaborn as sns\n",
    "import matplotlib.pyplot as plt\n",
    "import warnings\n",
    "\n",
    "import xgboost as xgb\n",
    "from xgboost import XGBClassifier\n",
    "from catboost import CatBoostClassifier\n",
    "from lightgbm import LGBMClassifier\n",
    "\n",
    "from sklearn.model_selection import train_test_split, StratifiedKFold\n",
    "from sklearn.feature_extraction.text import HashingVectorizer, TfidfVectorizer\n",
    "from sklearn.neighbors import KDTree\n",
    "from sklearn.neighbors import NearestNeighbors\n",
    "\n",
    "from IPython.core.display import display, HTML"
   ]
  },
  {
   "cell_type": "code",
   "execution_count": 3,
   "metadata": {
    "hidden": true
   },
   "outputs": [],
   "source": [
    "warnings.filterwarnings('ignore')"
   ]
  },
  {
   "cell_type": "code",
   "execution_count": 4,
   "metadata": {
    "hidden": true
   },
   "outputs": [],
   "source": [
    "\n",
    "def magnify():\n",
    "    return [dict(selector=\"th\",\n",
    "                 props=[(\"font-size\", \"12pt\")]),\n",
    "            dict(selector=\"td\",\n",
    "                 props=[(\"font-size\", \"12pt\")]),\n",
    "            dict(selector=\"tr:hover td:hover\",\n",
    "                 props=[('max-width', '200px'),\n",
    "                        ('font-size', '12pt')])]\n",
    "\n",
    "def display_dataframe(df):\n",
    "    return df.style.hide_index().set_table_styles(magnify()).set_precision(2)"
   ]
  },
  {
   "cell_type": "code",
   "execution_count": 5,
   "metadata": {
    "hidden": true
   },
   "outputs": [],
   "source": [
    "sns.set()\n",
    "size=22\n",
    "params = {'legend.fontsize': 'large',\n",
    "          'figure.figsize': (20,8),\n",
    "          'axes.labelsize': size,\n",
    "          'axes.titlesize': size,\n",
    "          'xtick.labelsize': size*0.75,\n",
    "          'ytick.labelsize': size*0.75,\n",
    "          'axes.titlepad': 25}\n",
    "\n",
    "plt.rcParams.update(params)"
   ]
  },
  {
   "cell_type": "code",
   "execution_count": 6,
   "metadata": {
    "hidden": true
   },
   "outputs": [
    {
     "data": {
      "text/html": [
       "<style>.container { width:90% !important; }</style>"
      ],
      "text/plain": [
       "<IPython.core.display.HTML object>"
      ]
     },
     "metadata": {},
     "output_type": "display_data"
    },
    {
     "data": {
      "text/html": [
       "\n",
       "<style>\n",
       "\n",
       "div.cell { /* Tunes the space between cells */\n",
       "margin-top:1em;\n",
       "margin-bottom:1em;\n",
       "}\n",
       "\n",
       "div.text_cell_render h1 { /* Main titles bigger, centered */\n",
       "font-size: 2.2em;\n",
       "line-height:1.4em;\n",
       "text-align:left;\n",
       "}\n",
       "\n",
       "div.text_cell_render h2 { /*  Parts names nearer from text */\n",
       "margin-bottom: -0.4em;\n",
       "}\n",
       "\n",
       "\n",
       "div.text_cell_render { /* Customize text cells */\n",
       "font-family: 'Times New Roman';\n",
       "font-size:1.5em;\n",
       "line-height:1.4em;\n",
       "}\n",
       "</style>\n"
      ],
      "text/plain": [
       "<IPython.core.display.HTML object>"
      ]
     },
     "execution_count": 6,
     "metadata": {},
     "output_type": "execute_result"
    }
   ],
   "source": [
    "display(HTML(\"<style>.container { width:90% !important; }</style>\"))\n",
    "\n",
    "HTML(\"\"\"\n",
    "<style>\n",
    "\n",
    "div.cell { /* Tunes the space between cells */\n",
    "margin-top:1em;\n",
    "margin-bottom:1em;\n",
    "}\n",
    "\n",
    "div.text_cell_render h1 { /* Main titles bigger, centered */\n",
    "font-size: 2.2em;\n",
    "line-height:1.4em;\n",
    "text-align:left;\n",
    "}\n",
    "\n",
    "div.text_cell_render h2 { /*  Parts names nearer from text */\n",
    "margin-bottom: -0.4em;\n",
    "}\n",
    "\n",
    "\n",
    "div.text_cell_render { /* Customize text cells */\n",
    "font-family: 'Times New Roman';\n",
    "font-size:1.5em;\n",
    "line-height:1.4em;\n",
    "}\n",
    "</style>\n",
    "\"\"\")"
   ]
  },
  {
   "cell_type": "markdown",
   "metadata": {},
   "source": [
    "## Advanced feature engineering techniques\n",
    "1. Brief introduction\n",
    "1. Mean encodings\n",
    "    * the basic concept\n",
    "    * simple implementation with some scores\n",
    "    * what are the issues with the naive approach\n",
    "1. Regularization of mean encodings\n",
    "    * cross validation approach\n",
    "    * smoothing of the encodings\n",
    "1. Extensions ot the method\n",
    "1. Group statistics\n",
    "1. Group statistics with nearest neighbour\n",
    "1. Feature interactions and selection\n",
    "1. Sparse feature selection"
   ]
  },
  {
   "cell_type": "markdown",
   "metadata": {
    "heading_collapsed": true
   },
   "source": [
    "### 1. Brief introduction"
   ]
  },
  {
   "cell_type": "markdown",
   "metadata": {
    "hidden": true
   },
   "source": [
    "What are we trying to solve here?\n",
    "\n",
    "Very brief recap of decision trees, random forest and gradient boosting.\n",
    "\n",
    "Libraries to try out:\n",
    "\n",
    "* **xgboost** extreme gradient boosting [link](https://xgboost.readthedocs.io/en/latest/)\n",
    "* **lightgbm** more recent [link](https://lightgbm.readthedocs.io/en/latest/)\n",
    "* **catboost** newest, really good with categorical features [link](https://catboost.ai/)"
   ]
  },
  {
   "cell_type": "markdown",
   "metadata": {
    "heading_collapsed": true
   },
   "source": [
    "### 2. Category encodings and introduction to mean encodings"
   ]
  },
  {
   "cell_type": "markdown",
   "metadata": {
    "hidden": true
   },
   "source": [
    "Other names of mean encodings, are target encodings and likelihood encodings."
   ]
  },
  {
   "cell_type": "markdown",
   "metadata": {
    "hidden": true
   },
   "source": [
    "#### Data loading"
   ]
  },
  {
   "cell_type": "code",
   "execution_count": 7,
   "metadata": {
    "hidden": true
   },
   "outputs": [],
   "source": [
    "data = pd.read_csv('cat-in-the-dat/train.csv', nrows=50_000)\n",
    "train, test, _, _ = train_test_split(data, data['target'], random_state=1)\n",
    "train, test = train.copy(), test.copy()"
   ]
  },
  {
   "cell_type": "code",
   "execution_count": 8,
   "metadata": {
    "hidden": true
   },
   "outputs": [
    {
     "data": {
      "text/html": [
       "<style  type=\"text/css\" >\n",
       "    #T_6c49bc28_5961_11ea_9558_0028f84b73b9 th {\n",
       "          font-size: 12pt;\n",
       "    }    #T_6c49bc28_5961_11ea_9558_0028f84b73b9 td {\n",
       "          font-size: 12pt;\n",
       "    }    #T_6c49bc28_5961_11ea_9558_0028f84b73b9 tr:hover td:hover {\n",
       "          max-width: 200px;\n",
       "          font-size: 12pt;\n",
       "    }</style><table id=\"T_6c49bc28_5961_11ea_9558_0028f84b73b9\" ><thead>    <tr>        <th class=\"col_heading level0 col0\" >id</th>        <th class=\"col_heading level0 col1\" >bin_0</th>        <th class=\"col_heading level0 col2\" >bin_1</th>        <th class=\"col_heading level0 col3\" >bin_2</th>        <th class=\"col_heading level0 col4\" >bin_3</th>        <th class=\"col_heading level0 col5\" >bin_4</th>        <th class=\"col_heading level0 col6\" >nom_0</th>        <th class=\"col_heading level0 col7\" >nom_1</th>        <th class=\"col_heading level0 col8\" >nom_2</th>        <th class=\"col_heading level0 col9\" >nom_3</th>        <th class=\"col_heading level0 col10\" >nom_4</th>        <th class=\"col_heading level0 col11\" >nom_5</th>        <th class=\"col_heading level0 col12\" >nom_6</th>        <th class=\"col_heading level0 col13\" >nom_7</th>        <th class=\"col_heading level0 col14\" >nom_8</th>        <th class=\"col_heading level0 col15\" >nom_9</th>        <th class=\"col_heading level0 col16\" >ord_0</th>        <th class=\"col_heading level0 col17\" >ord_1</th>        <th class=\"col_heading level0 col18\" >ord_2</th>        <th class=\"col_heading level0 col19\" >ord_3</th>        <th class=\"col_heading level0 col20\" >ord_4</th>        <th class=\"col_heading level0 col21\" >ord_5</th>        <th class=\"col_heading level0 col22\" >day</th>        <th class=\"col_heading level0 col23\" >month</th>        <th class=\"col_heading level0 col24\" >target</th>    </tr></thead><tbody>\n",
       "                <tr>\n",
       "                                <td id=\"T_6c49bc28_5961_11ea_9558_0028f84b73b9row0_col0\" class=\"data row0 col0\" >0</td>\n",
       "                        <td id=\"T_6c49bc28_5961_11ea_9558_0028f84b73b9row0_col1\" class=\"data row0 col1\" >0</td>\n",
       "                        <td id=\"T_6c49bc28_5961_11ea_9558_0028f84b73b9row0_col2\" class=\"data row0 col2\" >0</td>\n",
       "                        <td id=\"T_6c49bc28_5961_11ea_9558_0028f84b73b9row0_col3\" class=\"data row0 col3\" >0</td>\n",
       "                        <td id=\"T_6c49bc28_5961_11ea_9558_0028f84b73b9row0_col4\" class=\"data row0 col4\" >T</td>\n",
       "                        <td id=\"T_6c49bc28_5961_11ea_9558_0028f84b73b9row0_col5\" class=\"data row0 col5\" >Y</td>\n",
       "                        <td id=\"T_6c49bc28_5961_11ea_9558_0028f84b73b9row0_col6\" class=\"data row0 col6\" >Green</td>\n",
       "                        <td id=\"T_6c49bc28_5961_11ea_9558_0028f84b73b9row0_col7\" class=\"data row0 col7\" >Triangle</td>\n",
       "                        <td id=\"T_6c49bc28_5961_11ea_9558_0028f84b73b9row0_col8\" class=\"data row0 col8\" >Snake</td>\n",
       "                        <td id=\"T_6c49bc28_5961_11ea_9558_0028f84b73b9row0_col9\" class=\"data row0 col9\" >Finland</td>\n",
       "                        <td id=\"T_6c49bc28_5961_11ea_9558_0028f84b73b9row0_col10\" class=\"data row0 col10\" >Bassoon</td>\n",
       "                        <td id=\"T_6c49bc28_5961_11ea_9558_0028f84b73b9row0_col11\" class=\"data row0 col11\" >50f116bcf</td>\n",
       "                        <td id=\"T_6c49bc28_5961_11ea_9558_0028f84b73b9row0_col12\" class=\"data row0 col12\" >3ac1b8814</td>\n",
       "                        <td id=\"T_6c49bc28_5961_11ea_9558_0028f84b73b9row0_col13\" class=\"data row0 col13\" >68f6ad3e9</td>\n",
       "                        <td id=\"T_6c49bc28_5961_11ea_9558_0028f84b73b9row0_col14\" class=\"data row0 col14\" >c389000ab</td>\n",
       "                        <td id=\"T_6c49bc28_5961_11ea_9558_0028f84b73b9row0_col15\" class=\"data row0 col15\" >2f4cb3d51</td>\n",
       "                        <td id=\"T_6c49bc28_5961_11ea_9558_0028f84b73b9row0_col16\" class=\"data row0 col16\" >2</td>\n",
       "                        <td id=\"T_6c49bc28_5961_11ea_9558_0028f84b73b9row0_col17\" class=\"data row0 col17\" >Grandmaster</td>\n",
       "                        <td id=\"T_6c49bc28_5961_11ea_9558_0028f84b73b9row0_col18\" class=\"data row0 col18\" >Cold</td>\n",
       "                        <td id=\"T_6c49bc28_5961_11ea_9558_0028f84b73b9row0_col19\" class=\"data row0 col19\" >h</td>\n",
       "                        <td id=\"T_6c49bc28_5961_11ea_9558_0028f84b73b9row0_col20\" class=\"data row0 col20\" >D</td>\n",
       "                        <td id=\"T_6c49bc28_5961_11ea_9558_0028f84b73b9row0_col21\" class=\"data row0 col21\" >kr</td>\n",
       "                        <td id=\"T_6c49bc28_5961_11ea_9558_0028f84b73b9row0_col22\" class=\"data row0 col22\" >2</td>\n",
       "                        <td id=\"T_6c49bc28_5961_11ea_9558_0028f84b73b9row0_col23\" class=\"data row0 col23\" >2</td>\n",
       "                        <td id=\"T_6c49bc28_5961_11ea_9558_0028f84b73b9row0_col24\" class=\"data row0 col24\" >0</td>\n",
       "            </tr>\n",
       "            <tr>\n",
       "                                <td id=\"T_6c49bc28_5961_11ea_9558_0028f84b73b9row1_col0\" class=\"data row1 col0\" >1</td>\n",
       "                        <td id=\"T_6c49bc28_5961_11ea_9558_0028f84b73b9row1_col1\" class=\"data row1 col1\" >0</td>\n",
       "                        <td id=\"T_6c49bc28_5961_11ea_9558_0028f84b73b9row1_col2\" class=\"data row1 col2\" >1</td>\n",
       "                        <td id=\"T_6c49bc28_5961_11ea_9558_0028f84b73b9row1_col3\" class=\"data row1 col3\" >0</td>\n",
       "                        <td id=\"T_6c49bc28_5961_11ea_9558_0028f84b73b9row1_col4\" class=\"data row1 col4\" >T</td>\n",
       "                        <td id=\"T_6c49bc28_5961_11ea_9558_0028f84b73b9row1_col5\" class=\"data row1 col5\" >Y</td>\n",
       "                        <td id=\"T_6c49bc28_5961_11ea_9558_0028f84b73b9row1_col6\" class=\"data row1 col6\" >Green</td>\n",
       "                        <td id=\"T_6c49bc28_5961_11ea_9558_0028f84b73b9row1_col7\" class=\"data row1 col7\" >Trapezoid</td>\n",
       "                        <td id=\"T_6c49bc28_5961_11ea_9558_0028f84b73b9row1_col8\" class=\"data row1 col8\" >Hamster</td>\n",
       "                        <td id=\"T_6c49bc28_5961_11ea_9558_0028f84b73b9row1_col9\" class=\"data row1 col9\" >Russia</td>\n",
       "                        <td id=\"T_6c49bc28_5961_11ea_9558_0028f84b73b9row1_col10\" class=\"data row1 col10\" >Piano</td>\n",
       "                        <td id=\"T_6c49bc28_5961_11ea_9558_0028f84b73b9row1_col11\" class=\"data row1 col11\" >b3b4d25d0</td>\n",
       "                        <td id=\"T_6c49bc28_5961_11ea_9558_0028f84b73b9row1_col12\" class=\"data row1 col12\" >fbcb50fc1</td>\n",
       "                        <td id=\"T_6c49bc28_5961_11ea_9558_0028f84b73b9row1_col13\" class=\"data row1 col13\" >3b6dd5612</td>\n",
       "                        <td id=\"T_6c49bc28_5961_11ea_9558_0028f84b73b9row1_col14\" class=\"data row1 col14\" >4cd920251</td>\n",
       "                        <td id=\"T_6c49bc28_5961_11ea_9558_0028f84b73b9row1_col15\" class=\"data row1 col15\" >f83c56c21</td>\n",
       "                        <td id=\"T_6c49bc28_5961_11ea_9558_0028f84b73b9row1_col16\" class=\"data row1 col16\" >1</td>\n",
       "                        <td id=\"T_6c49bc28_5961_11ea_9558_0028f84b73b9row1_col17\" class=\"data row1 col17\" >Grandmaster</td>\n",
       "                        <td id=\"T_6c49bc28_5961_11ea_9558_0028f84b73b9row1_col18\" class=\"data row1 col18\" >Hot</td>\n",
       "                        <td id=\"T_6c49bc28_5961_11ea_9558_0028f84b73b9row1_col19\" class=\"data row1 col19\" >a</td>\n",
       "                        <td id=\"T_6c49bc28_5961_11ea_9558_0028f84b73b9row1_col20\" class=\"data row1 col20\" >A</td>\n",
       "                        <td id=\"T_6c49bc28_5961_11ea_9558_0028f84b73b9row1_col21\" class=\"data row1 col21\" >bF</td>\n",
       "                        <td id=\"T_6c49bc28_5961_11ea_9558_0028f84b73b9row1_col22\" class=\"data row1 col22\" >7</td>\n",
       "                        <td id=\"T_6c49bc28_5961_11ea_9558_0028f84b73b9row1_col23\" class=\"data row1 col23\" >8</td>\n",
       "                        <td id=\"T_6c49bc28_5961_11ea_9558_0028f84b73b9row1_col24\" class=\"data row1 col24\" >0</td>\n",
       "            </tr>\n",
       "            <tr>\n",
       "                                <td id=\"T_6c49bc28_5961_11ea_9558_0028f84b73b9row2_col0\" class=\"data row2 col0\" >2</td>\n",
       "                        <td id=\"T_6c49bc28_5961_11ea_9558_0028f84b73b9row2_col1\" class=\"data row2 col1\" >0</td>\n",
       "                        <td id=\"T_6c49bc28_5961_11ea_9558_0028f84b73b9row2_col2\" class=\"data row2 col2\" >0</td>\n",
       "                        <td id=\"T_6c49bc28_5961_11ea_9558_0028f84b73b9row2_col3\" class=\"data row2 col3\" >0</td>\n",
       "                        <td id=\"T_6c49bc28_5961_11ea_9558_0028f84b73b9row2_col4\" class=\"data row2 col4\" >F</td>\n",
       "                        <td id=\"T_6c49bc28_5961_11ea_9558_0028f84b73b9row2_col5\" class=\"data row2 col5\" >Y</td>\n",
       "                        <td id=\"T_6c49bc28_5961_11ea_9558_0028f84b73b9row2_col6\" class=\"data row2 col6\" >Blue</td>\n",
       "                        <td id=\"T_6c49bc28_5961_11ea_9558_0028f84b73b9row2_col7\" class=\"data row2 col7\" >Trapezoid</td>\n",
       "                        <td id=\"T_6c49bc28_5961_11ea_9558_0028f84b73b9row2_col8\" class=\"data row2 col8\" >Lion</td>\n",
       "                        <td id=\"T_6c49bc28_5961_11ea_9558_0028f84b73b9row2_col9\" class=\"data row2 col9\" >Russia</td>\n",
       "                        <td id=\"T_6c49bc28_5961_11ea_9558_0028f84b73b9row2_col10\" class=\"data row2 col10\" >Theremin</td>\n",
       "                        <td id=\"T_6c49bc28_5961_11ea_9558_0028f84b73b9row2_col11\" class=\"data row2 col11\" >3263bdce5</td>\n",
       "                        <td id=\"T_6c49bc28_5961_11ea_9558_0028f84b73b9row2_col12\" class=\"data row2 col12\" >0922e3cb8</td>\n",
       "                        <td id=\"T_6c49bc28_5961_11ea_9558_0028f84b73b9row2_col13\" class=\"data row2 col13\" >a6a36f527</td>\n",
       "                        <td id=\"T_6c49bc28_5961_11ea_9558_0028f84b73b9row2_col14\" class=\"data row2 col14\" >de9c9f684</td>\n",
       "                        <td id=\"T_6c49bc28_5961_11ea_9558_0028f84b73b9row2_col15\" class=\"data row2 col15\" >ae6800dd0</td>\n",
       "                        <td id=\"T_6c49bc28_5961_11ea_9558_0028f84b73b9row2_col16\" class=\"data row2 col16\" >1</td>\n",
       "                        <td id=\"T_6c49bc28_5961_11ea_9558_0028f84b73b9row2_col17\" class=\"data row2 col17\" >Expert</td>\n",
       "                        <td id=\"T_6c49bc28_5961_11ea_9558_0028f84b73b9row2_col18\" class=\"data row2 col18\" >Lava Hot</td>\n",
       "                        <td id=\"T_6c49bc28_5961_11ea_9558_0028f84b73b9row2_col19\" class=\"data row2 col19\" >h</td>\n",
       "                        <td id=\"T_6c49bc28_5961_11ea_9558_0028f84b73b9row2_col20\" class=\"data row2 col20\" >R</td>\n",
       "                        <td id=\"T_6c49bc28_5961_11ea_9558_0028f84b73b9row2_col21\" class=\"data row2 col21\" >Jc</td>\n",
       "                        <td id=\"T_6c49bc28_5961_11ea_9558_0028f84b73b9row2_col22\" class=\"data row2 col22\" >7</td>\n",
       "                        <td id=\"T_6c49bc28_5961_11ea_9558_0028f84b73b9row2_col23\" class=\"data row2 col23\" >2</td>\n",
       "                        <td id=\"T_6c49bc28_5961_11ea_9558_0028f84b73b9row2_col24\" class=\"data row2 col24\" >0</td>\n",
       "            </tr>\n",
       "            <tr>\n",
       "                                <td id=\"T_6c49bc28_5961_11ea_9558_0028f84b73b9row3_col0\" class=\"data row3 col0\" >3</td>\n",
       "                        <td id=\"T_6c49bc28_5961_11ea_9558_0028f84b73b9row3_col1\" class=\"data row3 col1\" >0</td>\n",
       "                        <td id=\"T_6c49bc28_5961_11ea_9558_0028f84b73b9row3_col2\" class=\"data row3 col2\" >1</td>\n",
       "                        <td id=\"T_6c49bc28_5961_11ea_9558_0028f84b73b9row3_col3\" class=\"data row3 col3\" >0</td>\n",
       "                        <td id=\"T_6c49bc28_5961_11ea_9558_0028f84b73b9row3_col4\" class=\"data row3 col4\" >F</td>\n",
       "                        <td id=\"T_6c49bc28_5961_11ea_9558_0028f84b73b9row3_col5\" class=\"data row3 col5\" >Y</td>\n",
       "                        <td id=\"T_6c49bc28_5961_11ea_9558_0028f84b73b9row3_col6\" class=\"data row3 col6\" >Red</td>\n",
       "                        <td id=\"T_6c49bc28_5961_11ea_9558_0028f84b73b9row3_col7\" class=\"data row3 col7\" >Trapezoid</td>\n",
       "                        <td id=\"T_6c49bc28_5961_11ea_9558_0028f84b73b9row3_col8\" class=\"data row3 col8\" >Snake</td>\n",
       "                        <td id=\"T_6c49bc28_5961_11ea_9558_0028f84b73b9row3_col9\" class=\"data row3 col9\" >Canada</td>\n",
       "                        <td id=\"T_6c49bc28_5961_11ea_9558_0028f84b73b9row3_col10\" class=\"data row3 col10\" >Oboe</td>\n",
       "                        <td id=\"T_6c49bc28_5961_11ea_9558_0028f84b73b9row3_col11\" class=\"data row3 col11\" >f12246592</td>\n",
       "                        <td id=\"T_6c49bc28_5961_11ea_9558_0028f84b73b9row3_col12\" class=\"data row3 col12\" >50d7ad46a</td>\n",
       "                        <td id=\"T_6c49bc28_5961_11ea_9558_0028f84b73b9row3_col13\" class=\"data row3 col13\" >ec69236eb</td>\n",
       "                        <td id=\"T_6c49bc28_5961_11ea_9558_0028f84b73b9row3_col14\" class=\"data row3 col14\" >4ade6ab69</td>\n",
       "                        <td id=\"T_6c49bc28_5961_11ea_9558_0028f84b73b9row3_col15\" class=\"data row3 col15\" >8270f0d71</td>\n",
       "                        <td id=\"T_6c49bc28_5961_11ea_9558_0028f84b73b9row3_col16\" class=\"data row3 col16\" >1</td>\n",
       "                        <td id=\"T_6c49bc28_5961_11ea_9558_0028f84b73b9row3_col17\" class=\"data row3 col17\" >Grandmaster</td>\n",
       "                        <td id=\"T_6c49bc28_5961_11ea_9558_0028f84b73b9row3_col18\" class=\"data row3 col18\" >Boiling Hot</td>\n",
       "                        <td id=\"T_6c49bc28_5961_11ea_9558_0028f84b73b9row3_col19\" class=\"data row3 col19\" >i</td>\n",
       "                        <td id=\"T_6c49bc28_5961_11ea_9558_0028f84b73b9row3_col20\" class=\"data row3 col20\" >D</td>\n",
       "                        <td id=\"T_6c49bc28_5961_11ea_9558_0028f84b73b9row3_col21\" class=\"data row3 col21\" >kW</td>\n",
       "                        <td id=\"T_6c49bc28_5961_11ea_9558_0028f84b73b9row3_col22\" class=\"data row3 col22\" >2</td>\n",
       "                        <td id=\"T_6c49bc28_5961_11ea_9558_0028f84b73b9row3_col23\" class=\"data row3 col23\" >1</td>\n",
       "                        <td id=\"T_6c49bc28_5961_11ea_9558_0028f84b73b9row3_col24\" class=\"data row3 col24\" >1</td>\n",
       "            </tr>\n",
       "            <tr>\n",
       "                                <td id=\"T_6c49bc28_5961_11ea_9558_0028f84b73b9row4_col0\" class=\"data row4 col0\" >4</td>\n",
       "                        <td id=\"T_6c49bc28_5961_11ea_9558_0028f84b73b9row4_col1\" class=\"data row4 col1\" >0</td>\n",
       "                        <td id=\"T_6c49bc28_5961_11ea_9558_0028f84b73b9row4_col2\" class=\"data row4 col2\" >0</td>\n",
       "                        <td id=\"T_6c49bc28_5961_11ea_9558_0028f84b73b9row4_col3\" class=\"data row4 col3\" >0</td>\n",
       "                        <td id=\"T_6c49bc28_5961_11ea_9558_0028f84b73b9row4_col4\" class=\"data row4 col4\" >F</td>\n",
       "                        <td id=\"T_6c49bc28_5961_11ea_9558_0028f84b73b9row4_col5\" class=\"data row4 col5\" >N</td>\n",
       "                        <td id=\"T_6c49bc28_5961_11ea_9558_0028f84b73b9row4_col6\" class=\"data row4 col6\" >Red</td>\n",
       "                        <td id=\"T_6c49bc28_5961_11ea_9558_0028f84b73b9row4_col7\" class=\"data row4 col7\" >Trapezoid</td>\n",
       "                        <td id=\"T_6c49bc28_5961_11ea_9558_0028f84b73b9row4_col8\" class=\"data row4 col8\" >Lion</td>\n",
       "                        <td id=\"T_6c49bc28_5961_11ea_9558_0028f84b73b9row4_col9\" class=\"data row4 col9\" >Canada</td>\n",
       "                        <td id=\"T_6c49bc28_5961_11ea_9558_0028f84b73b9row4_col10\" class=\"data row4 col10\" >Oboe</td>\n",
       "                        <td id=\"T_6c49bc28_5961_11ea_9558_0028f84b73b9row4_col11\" class=\"data row4 col11\" >5b0f5acd5</td>\n",
       "                        <td id=\"T_6c49bc28_5961_11ea_9558_0028f84b73b9row4_col12\" class=\"data row4 col12\" >1fe17a1fd</td>\n",
       "                        <td id=\"T_6c49bc28_5961_11ea_9558_0028f84b73b9row4_col13\" class=\"data row4 col13\" >04ddac2be</td>\n",
       "                        <td id=\"T_6c49bc28_5961_11ea_9558_0028f84b73b9row4_col14\" class=\"data row4 col14\" >cb43ab175</td>\n",
       "                        <td id=\"T_6c49bc28_5961_11ea_9558_0028f84b73b9row4_col15\" class=\"data row4 col15\" >b164b72a7</td>\n",
       "                        <td id=\"T_6c49bc28_5961_11ea_9558_0028f84b73b9row4_col16\" class=\"data row4 col16\" >1</td>\n",
       "                        <td id=\"T_6c49bc28_5961_11ea_9558_0028f84b73b9row4_col17\" class=\"data row4 col17\" >Grandmaster</td>\n",
       "                        <td id=\"T_6c49bc28_5961_11ea_9558_0028f84b73b9row4_col18\" class=\"data row4 col18\" >Freezing</td>\n",
       "                        <td id=\"T_6c49bc28_5961_11ea_9558_0028f84b73b9row4_col19\" class=\"data row4 col19\" >a</td>\n",
       "                        <td id=\"T_6c49bc28_5961_11ea_9558_0028f84b73b9row4_col20\" class=\"data row4 col20\" >R</td>\n",
       "                        <td id=\"T_6c49bc28_5961_11ea_9558_0028f84b73b9row4_col21\" class=\"data row4 col21\" >qP</td>\n",
       "                        <td id=\"T_6c49bc28_5961_11ea_9558_0028f84b73b9row4_col22\" class=\"data row4 col22\" >7</td>\n",
       "                        <td id=\"T_6c49bc28_5961_11ea_9558_0028f84b73b9row4_col23\" class=\"data row4 col23\" >8</td>\n",
       "                        <td id=\"T_6c49bc28_5961_11ea_9558_0028f84b73b9row4_col24\" class=\"data row4 col24\" >0</td>\n",
       "            </tr>\n",
       "    </tbody></table>"
      ],
      "text/plain": [
       "<pandas.io.formats.style.Styler at 0x7f9012f285f8>"
      ]
     },
     "execution_count": 8,
     "metadata": {},
     "output_type": "execute_result"
    }
   ],
   "source": [
    "display_dataframe(data.head())"
   ]
  },
  {
   "cell_type": "code",
   "execution_count": 9,
   "metadata": {
    "hidden": true
   },
   "outputs": [],
   "source": [
    "categorical = ['nom_0', 'nom_1', 'nom_2', 'nom_3', 'nom_4', 'nom_5', 'nom_6', 'nom_7', 'nom_8', 'nom_9']\n",
    "target = 'target'"
   ]
  },
  {
   "cell_type": "code",
   "execution_count": 10,
   "metadata": {
    "hidden": true
   },
   "outputs": [
    {
     "data": {
      "text/html": [
       "<style  type=\"text/css\" >\n",
       "    #T_6c49bc29_5961_11ea_9558_0028f84b73b9 th {\n",
       "          font-size: 12pt;\n",
       "    }    #T_6c49bc29_5961_11ea_9558_0028f84b73b9 td {\n",
       "          font-size: 12pt;\n",
       "    }    #T_6c49bc29_5961_11ea_9558_0028f84b73b9 tr:hover td:hover {\n",
       "          max-width: 200px;\n",
       "          font-size: 12pt;\n",
       "    }</style><table id=\"T_6c49bc29_5961_11ea_9558_0028f84b73b9\" ><thead>    <tr>        <th class=\"col_heading level0 col0\" >nom_0</th>        <th class=\"col_heading level0 col1\" >nom_1</th>        <th class=\"col_heading level0 col2\" >nom_2</th>        <th class=\"col_heading level0 col3\" >nom_3</th>        <th class=\"col_heading level0 col4\" >nom_4</th>        <th class=\"col_heading level0 col5\" >nom_5</th>        <th class=\"col_heading level0 col6\" >nom_6</th>        <th class=\"col_heading level0 col7\" >nom_7</th>        <th class=\"col_heading level0 col8\" >nom_8</th>        <th class=\"col_heading level0 col9\" >nom_9</th>        <th class=\"col_heading level0 col10\" >target</th>    </tr></thead><tbody>\n",
       "                <tr>\n",
       "                                <td id=\"T_6c49bc29_5961_11ea_9558_0028f84b73b9row0_col0\" class=\"data row0 col0\" >Red</td>\n",
       "                        <td id=\"T_6c49bc29_5961_11ea_9558_0028f84b73b9row0_col1\" class=\"data row0 col1\" >Triangle</td>\n",
       "                        <td id=\"T_6c49bc29_5961_11ea_9558_0028f84b73b9row0_col2\" class=\"data row0 col2\" >Cat</td>\n",
       "                        <td id=\"T_6c49bc29_5961_11ea_9558_0028f84b73b9row0_col3\" class=\"data row0 col3\" >Costa Rica</td>\n",
       "                        <td id=\"T_6c49bc29_5961_11ea_9558_0028f84b73b9row0_col4\" class=\"data row0 col4\" >Bassoon</td>\n",
       "                        <td id=\"T_6c49bc29_5961_11ea_9558_0028f84b73b9row0_col5\" class=\"data row0 col5\" >586b51342</td>\n",
       "                        <td id=\"T_6c49bc29_5961_11ea_9558_0028f84b73b9row0_col6\" class=\"data row0 col6\" >a19d81efe</td>\n",
       "                        <td id=\"T_6c49bc29_5961_11ea_9558_0028f84b73b9row0_col7\" class=\"data row0 col7\" >880957c19</td>\n",
       "                        <td id=\"T_6c49bc29_5961_11ea_9558_0028f84b73b9row0_col8\" class=\"data row0 col8\" >d69adef8b</td>\n",
       "                        <td id=\"T_6c49bc29_5961_11ea_9558_0028f84b73b9row0_col9\" class=\"data row0 col9\" >7fe5ee983</td>\n",
       "                        <td id=\"T_6c49bc29_5961_11ea_9558_0028f84b73b9row0_col10\" class=\"data row0 col10\" >1</td>\n",
       "            </tr>\n",
       "            <tr>\n",
       "                                <td id=\"T_6c49bc29_5961_11ea_9558_0028f84b73b9row1_col0\" class=\"data row1 col0\" >Red</td>\n",
       "                        <td id=\"T_6c49bc29_5961_11ea_9558_0028f84b73b9row1_col1\" class=\"data row1 col1\" >Square</td>\n",
       "                        <td id=\"T_6c49bc29_5961_11ea_9558_0028f84b73b9row1_col2\" class=\"data row1 col2\" >Snake</td>\n",
       "                        <td id=\"T_6c49bc29_5961_11ea_9558_0028f84b73b9row1_col3\" class=\"data row1 col3\" >Finland</td>\n",
       "                        <td id=\"T_6c49bc29_5961_11ea_9558_0028f84b73b9row1_col4\" class=\"data row1 col4\" >Bassoon</td>\n",
       "                        <td id=\"T_6c49bc29_5961_11ea_9558_0028f84b73b9row1_col5\" class=\"data row1 col5\" >19db35594</td>\n",
       "                        <td id=\"T_6c49bc29_5961_11ea_9558_0028f84b73b9row1_col6\" class=\"data row1 col6\" >6ea52a806</td>\n",
       "                        <td id=\"T_6c49bc29_5961_11ea_9558_0028f84b73b9row1_col7\" class=\"data row1 col7\" >4a0ff1117</td>\n",
       "                        <td id=\"T_6c49bc29_5961_11ea_9558_0028f84b73b9row1_col8\" class=\"data row1 col8\" >178ac6030</td>\n",
       "                        <td id=\"T_6c49bc29_5961_11ea_9558_0028f84b73b9row1_col9\" class=\"data row1 col9\" >35a9ee7ef</td>\n",
       "                        <td id=\"T_6c49bc29_5961_11ea_9558_0028f84b73b9row1_col10\" class=\"data row1 col10\" >0</td>\n",
       "            </tr>\n",
       "            <tr>\n",
       "                                <td id=\"T_6c49bc29_5961_11ea_9558_0028f84b73b9row2_col0\" class=\"data row2 col0\" >Red</td>\n",
       "                        <td id=\"T_6c49bc29_5961_11ea_9558_0028f84b73b9row2_col1\" class=\"data row2 col1\" >Trapezoid</td>\n",
       "                        <td id=\"T_6c49bc29_5961_11ea_9558_0028f84b73b9row2_col2\" class=\"data row2 col2\" >Lion</td>\n",
       "                        <td id=\"T_6c49bc29_5961_11ea_9558_0028f84b73b9row2_col3\" class=\"data row2 col3\" >China</td>\n",
       "                        <td id=\"T_6c49bc29_5961_11ea_9558_0028f84b73b9row2_col4\" class=\"data row2 col4\" >Theremin</td>\n",
       "                        <td id=\"T_6c49bc29_5961_11ea_9558_0028f84b73b9row2_col5\" class=\"data row2 col5\" >0b3bec656</td>\n",
       "                        <td id=\"T_6c49bc29_5961_11ea_9558_0028f84b73b9row2_col6\" class=\"data row2 col6\" >e866d44ea</td>\n",
       "                        <td id=\"T_6c49bc29_5961_11ea_9558_0028f84b73b9row2_col7\" class=\"data row2 col7\" >b8240e94d</td>\n",
       "                        <td id=\"T_6c49bc29_5961_11ea_9558_0028f84b73b9row2_col8\" class=\"data row2 col8\" >fe593b910</td>\n",
       "                        <td id=\"T_6c49bc29_5961_11ea_9558_0028f84b73b9row2_col9\" class=\"data row2 col9\" >6fda251fa</td>\n",
       "                        <td id=\"T_6c49bc29_5961_11ea_9558_0028f84b73b9row2_col10\" class=\"data row2 col10\" >0</td>\n",
       "            </tr>\n",
       "            <tr>\n",
       "                                <td id=\"T_6c49bc29_5961_11ea_9558_0028f84b73b9row3_col0\" class=\"data row3 col0\" >Blue</td>\n",
       "                        <td id=\"T_6c49bc29_5961_11ea_9558_0028f84b73b9row3_col1\" class=\"data row3 col1\" >Square</td>\n",
       "                        <td id=\"T_6c49bc29_5961_11ea_9558_0028f84b73b9row3_col2\" class=\"data row3 col2\" >Lion</td>\n",
       "                        <td id=\"T_6c49bc29_5961_11ea_9558_0028f84b73b9row3_col3\" class=\"data row3 col3\" >Finland</td>\n",
       "                        <td id=\"T_6c49bc29_5961_11ea_9558_0028f84b73b9row3_col4\" class=\"data row3 col4\" >Oboe</td>\n",
       "                        <td id=\"T_6c49bc29_5961_11ea_9558_0028f84b73b9row3_col5\" class=\"data row3 col5\" >af088d192</td>\n",
       "                        <td id=\"T_6c49bc29_5961_11ea_9558_0028f84b73b9row3_col6\" class=\"data row3 col6\" >55a24a71b</td>\n",
       "                        <td id=\"T_6c49bc29_5961_11ea_9558_0028f84b73b9row3_col7\" class=\"data row3 col7\" >f1aec6b64</td>\n",
       "                        <td id=\"T_6c49bc29_5961_11ea_9558_0028f84b73b9row3_col8\" class=\"data row3 col8\" >802d6605a</td>\n",
       "                        <td id=\"T_6c49bc29_5961_11ea_9558_0028f84b73b9row3_col9\" class=\"data row3 col9\" >7747eac5f</td>\n",
       "                        <td id=\"T_6c49bc29_5961_11ea_9558_0028f84b73b9row3_col10\" class=\"data row3 col10\" >0</td>\n",
       "            </tr>\n",
       "            <tr>\n",
       "                                <td id=\"T_6c49bc29_5961_11ea_9558_0028f84b73b9row4_col0\" class=\"data row4 col0\" >Green</td>\n",
       "                        <td id=\"T_6c49bc29_5961_11ea_9558_0028f84b73b9row4_col1\" class=\"data row4 col1\" >Star</td>\n",
       "                        <td id=\"T_6c49bc29_5961_11ea_9558_0028f84b73b9row4_col2\" class=\"data row4 col2\" >Cat</td>\n",
       "                        <td id=\"T_6c49bc29_5961_11ea_9558_0028f84b73b9row4_col3\" class=\"data row4 col3\" >Russia</td>\n",
       "                        <td id=\"T_6c49bc29_5961_11ea_9558_0028f84b73b9row4_col4\" class=\"data row4 col4\" >Piano</td>\n",
       "                        <td id=\"T_6c49bc29_5961_11ea_9558_0028f84b73b9row4_col5\" class=\"data row4 col5\" >c0534106d</td>\n",
       "                        <td id=\"T_6c49bc29_5961_11ea_9558_0028f84b73b9row4_col6\" class=\"data row4 col6\" >12d88c9c3</td>\n",
       "                        <td id=\"T_6c49bc29_5961_11ea_9558_0028f84b73b9row4_col7\" class=\"data row4 col7\" >f16ff4894</td>\n",
       "                        <td id=\"T_6c49bc29_5961_11ea_9558_0028f84b73b9row4_col8\" class=\"data row4 col8\" >66c666931</td>\n",
       "                        <td id=\"T_6c49bc29_5961_11ea_9558_0028f84b73b9row4_col9\" class=\"data row4 col9\" >64f44d6dd</td>\n",
       "                        <td id=\"T_6c49bc29_5961_11ea_9558_0028f84b73b9row4_col10\" class=\"data row4 col10\" >0</td>\n",
       "            </tr>\n",
       "    </tbody></table>"
      ],
      "text/plain": [
       "<pandas.io.formats.style.Styler at 0x7f90120412b0>"
      ]
     },
     "execution_count": 10,
     "metadata": {},
     "output_type": "execute_result"
    }
   ],
   "source": [
    "display_dataframe(train[categorical + [target]].head())"
   ]
  },
  {
   "cell_type": "code",
   "execution_count": 11,
   "metadata": {
    "hidden": true
   },
   "outputs": [
    {
     "data": {
      "text/html": [
       "<style  type=\"text/css\" >\n",
       "    #T_6c49bc2a_5961_11ea_9558_0028f84b73b9 th {\n",
       "          font-size: 12pt;\n",
       "    }    #T_6c49bc2a_5961_11ea_9558_0028f84b73b9 td {\n",
       "          font-size: 12pt;\n",
       "    }    #T_6c49bc2a_5961_11ea_9558_0028f84b73b9 tr:hover td:hover {\n",
       "          max-width: 200px;\n",
       "          font-size: 12pt;\n",
       "    }</style><table id=\"T_6c49bc2a_5961_11ea_9558_0028f84b73b9\" ><thead>    <tr>        <th class=\"col_heading level0 col0\" >feature</th>        <th class=\"col_heading level0 col1\" >n_unique</th>    </tr></thead><tbody>\n",
       "                <tr>\n",
       "                                <td id=\"T_6c49bc2a_5961_11ea_9558_0028f84b73b9row0_col0\" class=\"data row0 col0\" >nom_0</td>\n",
       "                        <td id=\"T_6c49bc2a_5961_11ea_9558_0028f84b73b9row0_col1\" class=\"data row0 col1\" >3</td>\n",
       "            </tr>\n",
       "            <tr>\n",
       "                                <td id=\"T_6c49bc2a_5961_11ea_9558_0028f84b73b9row1_col0\" class=\"data row1 col0\" >nom_1</td>\n",
       "                        <td id=\"T_6c49bc2a_5961_11ea_9558_0028f84b73b9row1_col1\" class=\"data row1 col1\" >6</td>\n",
       "            </tr>\n",
       "            <tr>\n",
       "                                <td id=\"T_6c49bc2a_5961_11ea_9558_0028f84b73b9row2_col0\" class=\"data row2 col0\" >nom_2</td>\n",
       "                        <td id=\"T_6c49bc2a_5961_11ea_9558_0028f84b73b9row2_col1\" class=\"data row2 col1\" >6</td>\n",
       "            </tr>\n",
       "            <tr>\n",
       "                                <td id=\"T_6c49bc2a_5961_11ea_9558_0028f84b73b9row3_col0\" class=\"data row3 col0\" >nom_3</td>\n",
       "                        <td id=\"T_6c49bc2a_5961_11ea_9558_0028f84b73b9row3_col1\" class=\"data row3 col1\" >6</td>\n",
       "            </tr>\n",
       "            <tr>\n",
       "                                <td id=\"T_6c49bc2a_5961_11ea_9558_0028f84b73b9row4_col0\" class=\"data row4 col0\" >nom_4</td>\n",
       "                        <td id=\"T_6c49bc2a_5961_11ea_9558_0028f84b73b9row4_col1\" class=\"data row4 col1\" >4</td>\n",
       "            </tr>\n",
       "            <tr>\n",
       "                                <td id=\"T_6c49bc2a_5961_11ea_9558_0028f84b73b9row5_col0\" class=\"data row5 col0\" >nom_5</td>\n",
       "                        <td id=\"T_6c49bc2a_5961_11ea_9558_0028f84b73b9row5_col1\" class=\"data row5 col1\" >222</td>\n",
       "            </tr>\n",
       "            <tr>\n",
       "                                <td id=\"T_6c49bc2a_5961_11ea_9558_0028f84b73b9row6_col0\" class=\"data row6 col0\" >nom_6</td>\n",
       "                        <td id=\"T_6c49bc2a_5961_11ea_9558_0028f84b73b9row6_col1\" class=\"data row6 col1\" >519</td>\n",
       "            </tr>\n",
       "            <tr>\n",
       "                                <td id=\"T_6c49bc2a_5961_11ea_9558_0028f84b73b9row7_col0\" class=\"data row7 col0\" >nom_7</td>\n",
       "                        <td id=\"T_6c49bc2a_5961_11ea_9558_0028f84b73b9row7_col1\" class=\"data row7 col1\" >1206</td>\n",
       "            </tr>\n",
       "            <tr>\n",
       "                                <td id=\"T_6c49bc2a_5961_11ea_9558_0028f84b73b9row8_col0\" class=\"data row8 col0\" >nom_8</td>\n",
       "                        <td id=\"T_6c49bc2a_5961_11ea_9558_0028f84b73b9row8_col1\" class=\"data row8 col1\" >2172</td>\n",
       "            </tr>\n",
       "            <tr>\n",
       "                                <td id=\"T_6c49bc2a_5961_11ea_9558_0028f84b73b9row9_col0\" class=\"data row9 col0\" >nom_9</td>\n",
       "                        <td id=\"T_6c49bc2a_5961_11ea_9558_0028f84b73b9row9_col1\" class=\"data row9 col1\" >10223</td>\n",
       "            </tr>\n",
       "    </tbody></table>"
      ],
      "text/plain": [
       "<pandas.io.formats.style.Styler at 0x7f9078ea97b8>"
      ]
     },
     "execution_count": 11,
     "metadata": {},
     "output_type": "execute_result"
    }
   ],
   "source": [
    "display_dataframe(train[categorical].nunique().\\\n",
    "                  reset_index().\\\n",
    "                  rename({'index': 'feature', 0:'n_unique'}, axis=1))"
   ]
  },
  {
   "cell_type": "markdown",
   "metadata": {
    "hidden": true
   },
   "source": [
    "#### Standard label encoding"
   ]
  },
  {
   "cell_type": "code",
   "execution_count": 12,
   "metadata": {
    "hidden": true
   },
   "outputs": [],
   "source": [
    "feature_name = 'nom_2'"
   ]
  },
  {
   "cell_type": "code",
   "execution_count": 13,
   "metadata": {
    "hidden": true
   },
   "outputs": [
    {
     "data": {
      "text/plain": [
       "array(['Snake', 'Hamster', 'Lion', 'Cat', 'Dog', 'Axolotl'], dtype=object)"
      ]
     },
     "execution_count": 13,
     "metadata": {},
     "output_type": "execute_result"
    }
   ],
   "source": [
    "data[feature_name].unique()"
   ]
  },
  {
   "cell_type": "markdown",
   "metadata": {
    "hidden": true
   },
   "source": [
    "Axolotl: https://en.wikipedia.org/wiki/Axolotl - walking fish :)"
   ]
  },
  {
   "cell_type": "code",
   "execution_count": 14,
   "metadata": {
    "hidden": true
   },
   "outputs": [],
   "source": [
    "def label_encode(feature_name, train, test):\n",
    "    vals = train[feature_name].unique()\n",
    "    mapping = {v: i for i, v in enumerate(vals)}\n",
    "\n",
    "    train[f'{feature_name}_enc'] = train[feature_name].apply(lambda v : mapping.get(v, -1))\n",
    "    test[f'{feature_name}_enc'] = test[feature_name].apply(lambda v : mapping.get(v, -1))\n",
    "    \n",
    "encoded_categorical = [f'{feature_name}_enc' for feature_name in categorical]"
   ]
  },
  {
   "cell_type": "code",
   "execution_count": 15,
   "metadata": {
    "hidden": true
   },
   "outputs": [
    {
     "data": {
      "text/html": [
       "<style  type=\"text/css\" >\n",
       "    #T_6c49bc2b_5961_11ea_9558_0028f84b73b9 th {\n",
       "          font-size: 12pt;\n",
       "    }    #T_6c49bc2b_5961_11ea_9558_0028f84b73b9 td {\n",
       "          font-size: 12pt;\n",
       "    }    #T_6c49bc2b_5961_11ea_9558_0028f84b73b9 tr:hover td:hover {\n",
       "          max-width: 200px;\n",
       "          font-size: 12pt;\n",
       "    }</style><table id=\"T_6c49bc2b_5961_11ea_9558_0028f84b73b9\" ><thead>    <tr>        <th class=\"col_heading level0 col0\" >nom_2</th>        <th class=\"col_heading level0 col1\" >nom_2_enc</th>    </tr></thead><tbody>\n",
       "                <tr>\n",
       "                                <td id=\"T_6c49bc2b_5961_11ea_9558_0028f84b73b9row0_col0\" class=\"data row0 col0\" >Cat</td>\n",
       "                        <td id=\"T_6c49bc2b_5961_11ea_9558_0028f84b73b9row0_col1\" class=\"data row0 col1\" >0</td>\n",
       "            </tr>\n",
       "            <tr>\n",
       "                                <td id=\"T_6c49bc2b_5961_11ea_9558_0028f84b73b9row1_col0\" class=\"data row1 col0\" >Snake</td>\n",
       "                        <td id=\"T_6c49bc2b_5961_11ea_9558_0028f84b73b9row1_col1\" class=\"data row1 col1\" >1</td>\n",
       "            </tr>\n",
       "            <tr>\n",
       "                                <td id=\"T_6c49bc2b_5961_11ea_9558_0028f84b73b9row2_col0\" class=\"data row2 col0\" >Lion</td>\n",
       "                        <td id=\"T_6c49bc2b_5961_11ea_9558_0028f84b73b9row2_col1\" class=\"data row2 col1\" >2</td>\n",
       "            </tr>\n",
       "            <tr>\n",
       "                                <td id=\"T_6c49bc2b_5961_11ea_9558_0028f84b73b9row3_col0\" class=\"data row3 col0\" >Lion</td>\n",
       "                        <td id=\"T_6c49bc2b_5961_11ea_9558_0028f84b73b9row3_col1\" class=\"data row3 col1\" >2</td>\n",
       "            </tr>\n",
       "            <tr>\n",
       "                                <td id=\"T_6c49bc2b_5961_11ea_9558_0028f84b73b9row4_col0\" class=\"data row4 col0\" >Cat</td>\n",
       "                        <td id=\"T_6c49bc2b_5961_11ea_9558_0028f84b73b9row4_col1\" class=\"data row4 col1\" >0</td>\n",
       "            </tr>\n",
       "            <tr>\n",
       "                                <td id=\"T_6c49bc2b_5961_11ea_9558_0028f84b73b9row5_col0\" class=\"data row5 col0\" >Axolotl</td>\n",
       "                        <td id=\"T_6c49bc2b_5961_11ea_9558_0028f84b73b9row5_col1\" class=\"data row5 col1\" >3</td>\n",
       "            </tr>\n",
       "            <tr>\n",
       "                                <td id=\"T_6c49bc2b_5961_11ea_9558_0028f84b73b9row6_col0\" class=\"data row6 col0\" >Snake</td>\n",
       "                        <td id=\"T_6c49bc2b_5961_11ea_9558_0028f84b73b9row6_col1\" class=\"data row6 col1\" >1</td>\n",
       "            </tr>\n",
       "            <tr>\n",
       "                                <td id=\"T_6c49bc2b_5961_11ea_9558_0028f84b73b9row7_col0\" class=\"data row7 col0\" >Axolotl</td>\n",
       "                        <td id=\"T_6c49bc2b_5961_11ea_9558_0028f84b73b9row7_col1\" class=\"data row7 col1\" >3</td>\n",
       "            </tr>\n",
       "            <tr>\n",
       "                                <td id=\"T_6c49bc2b_5961_11ea_9558_0028f84b73b9row8_col0\" class=\"data row8 col0\" >Dog</td>\n",
       "                        <td id=\"T_6c49bc2b_5961_11ea_9558_0028f84b73b9row8_col1\" class=\"data row8 col1\" >4</td>\n",
       "            </tr>\n",
       "            <tr>\n",
       "                                <td id=\"T_6c49bc2b_5961_11ea_9558_0028f84b73b9row9_col0\" class=\"data row9 col0\" >Snake</td>\n",
       "                        <td id=\"T_6c49bc2b_5961_11ea_9558_0028f84b73b9row9_col1\" class=\"data row9 col1\" >1</td>\n",
       "            </tr>\n",
       "    </tbody></table>"
      ],
      "text/plain": [
       "<pandas.io.formats.style.Styler at 0x7f9012025a20>"
      ]
     },
     "execution_count": 15,
     "metadata": {},
     "output_type": "execute_result"
    }
   ],
   "source": [
    "label_encode(feature_name, train, test)\n",
    "display_dataframe(train[[f'{feature_name}', f'{feature_name}_enc']].head(10))"
   ]
  },
  {
   "cell_type": "code",
   "execution_count": 16,
   "metadata": {
    "hidden": true
   },
   "outputs": [
    {
     "data": {
      "image/png": "[encoded data removed]",
      "text/plain": [
       "<Figure size 1152x504 with 1 Axes>"
      ]
     },
     "metadata": {},
     "output_type": "display_data"
    }
   ],
   "source": [
    "encoded_cats = train.groupby(feature_name)[f'{feature_name}_enc'].first().to_dict()\n",
    "encoded_cats = {v:f'{k}__{v:d}' for k,v in encoded_cats.items()}\n",
    "\n",
    "grp = train.groupby(f'{feature_name}_enc')[target].mean()\n",
    "grp.index = [encoded_cats[idx] for idx in grp.index]\n",
    "grp.plot(kind='bar', figsize=(16, 7))\n",
    "plt.title('Label encoding vs target mean')\n",
    "plt.ylabel('target mean');"
   ]
  },
  {
   "cell_type": "code",
   "execution_count": 17,
   "metadata": {
    "hidden": true
   },
   "outputs": [],
   "source": [
    "def train_xgb_model(train, test):\n",
    "    dm_train = xgb.DMatrix(train[encoded_categorical], label=train[target])\n",
    "    dm_test = xgb.DMatrix(test[encoded_categorical], label=test[target])\n",
    "\n",
    "    params = xgb.XGBClassifier().get_params()\n",
    "\n",
    "    results = {}\n",
    "    booster = xgb.train({'objective': 'binary:logistic'}, dm_train, num_boost_round=100, \n",
    "              evals=[(dm_test, 'test'), (dm_train, 'train')], evals_result=results, verbose_eval=0)\n",
    "\n",
    "    results = 1. - pd.DataFrame({'test': results['test']['error'], \n",
    "                                 'train': results['train']['error']})\n",
    "    return results"
   ]
  },
  {
   "cell_type": "code",
   "execution_count": 18,
   "metadata": {
    "hidden": true
   },
   "outputs": [
    {
     "name": "stdout",
     "output_type": "stream",
     "text": [
      "Accuracy of final iteration: 0.68\n"
     ]
    }
   ],
   "source": [
    "for feature in categorical:\n",
    "    label_encode(feature, train, test)\n",
    "\n",
    "results_label = train_xgb_model(train, test)\n",
    "last_score = results_label['test'].iloc[-1]\n",
    "print (f'Accuracy of final iteration: {last_score:.2f}')"
   ]
  },
  {
   "cell_type": "markdown",
   "metadata": {
    "hidden": true
   },
   "source": [
    "#### Mean encoding or target encoding"
   ]
  },
  {
   "cell_type": "code",
   "execution_count": 19,
   "metadata": {
    "hidden": true
   },
   "outputs": [],
   "source": [
    "def mean_encode(feature_name, train, test):\n",
    "    mapping = train.groupby(feature_name)[target].mean()\n",
    "    train[f'{feature_name}_enc'] = train[feature_name].map(mapping)\n",
    "    test[f'{feature_name}_enc'] = test[feature_name].map(mapping)"
   ]
  },
  {
   "cell_type": "code",
   "execution_count": 20,
   "metadata": {
    "hidden": true
   },
   "outputs": [],
   "source": [
    "mean_encode(feature_name, train, test)"
   ]
  },
  {
   "cell_type": "code",
   "execution_count": 21,
   "metadata": {
    "hidden": true
   },
   "outputs": [
    {
     "data": {
      "text/html": [
       "<style  type=\"text/css\" >\n",
       "    #T_6efe862e_5961_11ea_9558_0028f84b73b9 th {\n",
       "          font-size: 12pt;\n",
       "    }    #T_6efe862e_5961_11ea_9558_0028f84b73b9 td {\n",
       "          font-size: 12pt;\n",
       "    }    #T_6efe862e_5961_11ea_9558_0028f84b73b9 tr:hover td:hover {\n",
       "          max-width: 200px;\n",
       "          font-size: 12pt;\n",
       "    }</style><table id=\"T_6efe862e_5961_11ea_9558_0028f84b73b9\" ><thead>    <tr>        <th class=\"col_heading level0 col0\" >nom_2</th>        <th class=\"col_heading level0 col1\" >nom_2_enc</th>        <th class=\"col_heading level0 col2\" >target</th>    </tr></thead><tbody>\n",
       "                <tr>\n",
       "                                <td id=\"T_6efe862e_5961_11ea_9558_0028f84b73b9row0_col0\" class=\"data row0 col0\" >Cat</td>\n",
       "                        <td id=\"T_6efe862e_5961_11ea_9558_0028f84b73b9row0_col1\" class=\"data row0 col1\" >0.00</td>\n",
       "                        <td id=\"T_6efe862e_5961_11ea_9558_0028f84b73b9row0_col2\" class=\"data row0 col2\" >0</td>\n",
       "            </tr>\n",
       "            <tr>\n",
       "                                <td id=\"T_6efe862e_5961_11ea_9558_0028f84b73b9row1_col0\" class=\"data row1 col0\" >Dog</td>\n",
       "                        <td id=\"T_6efe862e_5961_11ea_9558_0028f84b73b9row1_col1\" class=\"data row1 col1\" >0.33</td>\n",
       "                        <td id=\"T_6efe862e_5961_11ea_9558_0028f84b73b9row1_col2\" class=\"data row1 col2\" >0</td>\n",
       "            </tr>\n",
       "            <tr>\n",
       "                                <td id=\"T_6efe862e_5961_11ea_9558_0028f84b73b9row2_col0\" class=\"data row2 col0\" >Dog</td>\n",
       "                        <td id=\"T_6efe862e_5961_11ea_9558_0028f84b73b9row2_col1\" class=\"data row2 col1\" >0.33</td>\n",
       "                        <td id=\"T_6efe862e_5961_11ea_9558_0028f84b73b9row2_col2\" class=\"data row2 col2\" >1</td>\n",
       "            </tr>\n",
       "            <tr>\n",
       "                                <td id=\"T_6efe862e_5961_11ea_9558_0028f84b73b9row3_col0\" class=\"data row3 col0\" >Dog</td>\n",
       "                        <td id=\"T_6efe862e_5961_11ea_9558_0028f84b73b9row3_col1\" class=\"data row3 col1\" >0.33</td>\n",
       "                        <td id=\"T_6efe862e_5961_11ea_9558_0028f84b73b9row3_col2\" class=\"data row3 col2\" >0</td>\n",
       "            </tr>\n",
       "            <tr>\n",
       "                                <td id=\"T_6efe862e_5961_11ea_9558_0028f84b73b9row4_col0\" class=\"data row4 col0\" >Hamster</td>\n",
       "                        <td id=\"T_6efe862e_5961_11ea_9558_0028f84b73b9row4_col1\" class=\"data row4 col1\" >0.50</td>\n",
       "                        <td id=\"T_6efe862e_5961_11ea_9558_0028f84b73b9row4_col2\" class=\"data row4 col2\" >0</td>\n",
       "            </tr>\n",
       "            <tr>\n",
       "                                <td id=\"T_6efe862e_5961_11ea_9558_0028f84b73b9row5_col0\" class=\"data row5 col0\" >Hamster</td>\n",
       "                        <td id=\"T_6efe862e_5961_11ea_9558_0028f84b73b9row5_col1\" class=\"data row5 col1\" >0.50</td>\n",
       "                        <td id=\"T_6efe862e_5961_11ea_9558_0028f84b73b9row5_col2\" class=\"data row5 col2\" >1</td>\n",
       "            </tr>\n",
       "            <tr>\n",
       "                                <td id=\"T_6efe862e_5961_11ea_9558_0028f84b73b9row6_col0\" class=\"data row6 col0\" >Lion</td>\n",
       "                        <td id=\"T_6efe862e_5961_11ea_9558_0028f84b73b9row6_col1\" class=\"data row6 col1\" >0.67</td>\n",
       "                        <td id=\"T_6efe862e_5961_11ea_9558_0028f84b73b9row6_col2\" class=\"data row6 col2\" >0</td>\n",
       "            </tr>\n",
       "            <tr>\n",
       "                                <td id=\"T_6efe862e_5961_11ea_9558_0028f84b73b9row7_col0\" class=\"data row7 col0\" >Lion</td>\n",
       "                        <td id=\"T_6efe862e_5961_11ea_9558_0028f84b73b9row7_col1\" class=\"data row7 col1\" >0.67</td>\n",
       "                        <td id=\"T_6efe862e_5961_11ea_9558_0028f84b73b9row7_col2\" class=\"data row7 col2\" >1</td>\n",
       "            </tr>\n",
       "            <tr>\n",
       "                                <td id=\"T_6efe862e_5961_11ea_9558_0028f84b73b9row8_col0\" class=\"data row8 col0\" >Lion</td>\n",
       "                        <td id=\"T_6efe862e_5961_11ea_9558_0028f84b73b9row8_col1\" class=\"data row8 col1\" >0.67</td>\n",
       "                        <td id=\"T_6efe862e_5961_11ea_9558_0028f84b73b9row8_col2\" class=\"data row8 col2\" >1</td>\n",
       "            </tr>\n",
       "            <tr>\n",
       "                                <td id=\"T_6efe862e_5961_11ea_9558_0028f84b73b9row9_col0\" class=\"data row9 col0\" >Snake</td>\n",
       "                        <td id=\"T_6efe862e_5961_11ea_9558_0028f84b73b9row9_col1\" class=\"data row9 col1\" >1.00</td>\n",
       "                        <td id=\"T_6efe862e_5961_11ea_9558_0028f84b73b9row9_col2\" class=\"data row9 col2\" >1</td>\n",
       "            </tr>\n",
       "    </tbody></table>"
      ],
      "text/plain": [
       "<pandas.io.formats.style.Styler at 0x7f9012176630>"
      ]
     },
     "execution_count": 21,
     "metadata": {},
     "output_type": "execute_result"
    }
   ],
   "source": [
    "small = train[[feature_name, f'{feature_name}_enc', target]].sample(10).copy()\n",
    "mean_encode(feature_name, small, test.iloc[:1].copy())\n",
    "display_dataframe(small.sort_values(feature_name))"
   ]
  },
  {
   "cell_type": "code",
   "execution_count": 22,
   "metadata": {
    "hidden": true,
    "scrolled": false
   },
   "outputs": [
    {
     "data": {
      "text/html": [
       "<style  type=\"text/css\" >\n",
       "    #T_6efe862f_5961_11ea_9558_0028f84b73b9 th {\n",
       "          font-size: 12pt;\n",
       "    }    #T_6efe862f_5961_11ea_9558_0028f84b73b9 td {\n",
       "          font-size: 12pt;\n",
       "    }    #T_6efe862f_5961_11ea_9558_0028f84b73b9 tr:hover td:hover {\n",
       "          max-width: 200px;\n",
       "          font-size: 12pt;\n",
       "    }</style><table id=\"T_6efe862f_5961_11ea_9558_0028f84b73b9\" ><thead>    <tr>        <th class=\"col_heading level0 col0\" >nom_2</th>        <th class=\"col_heading level0 col1\" >nom_2_enc</th>        <th class=\"col_heading level0 col2\" >target</th>    </tr></thead><tbody>\n",
       "                <tr>\n",
       "                                <td id=\"T_6efe862f_5961_11ea_9558_0028f84b73b9row0_col0\" class=\"data row0 col0\" >Snake</td>\n",
       "                        <td id=\"T_6efe862f_5961_11ea_9558_0028f84b73b9row0_col1\" class=\"data row0 col1\" >0.31</td>\n",
       "                        <td id=\"T_6efe862f_5961_11ea_9558_0028f84b73b9row0_col2\" class=\"data row0 col2\" >0</td>\n",
       "            </tr>\n",
       "            <tr>\n",
       "                                <td id=\"T_6efe862f_5961_11ea_9558_0028f84b73b9row1_col0\" class=\"data row1 col0\" >Lion</td>\n",
       "                        <td id=\"T_6efe862f_5961_11ea_9558_0028f84b73b9row1_col1\" class=\"data row1 col1\" >0.29</td>\n",
       "                        <td id=\"T_6efe862f_5961_11ea_9558_0028f84b73b9row1_col2\" class=\"data row1 col2\" >1</td>\n",
       "            </tr>\n",
       "            <tr>\n",
       "                                <td id=\"T_6efe862f_5961_11ea_9558_0028f84b73b9row2_col0\" class=\"data row2 col0\" >Lion</td>\n",
       "                        <td id=\"T_6efe862f_5961_11ea_9558_0028f84b73b9row2_col1\" class=\"data row2 col1\" >0.29</td>\n",
       "                        <td id=\"T_6efe862f_5961_11ea_9558_0028f84b73b9row2_col2\" class=\"data row2 col2\" >0</td>\n",
       "            </tr>\n",
       "            <tr>\n",
       "                                <td id=\"T_6efe862f_5961_11ea_9558_0028f84b73b9row3_col0\" class=\"data row3 col0\" >Cat</td>\n",
       "                        <td id=\"T_6efe862f_5961_11ea_9558_0028f84b73b9row3_col1\" class=\"data row3 col1\" >0.34</td>\n",
       "                        <td id=\"T_6efe862f_5961_11ea_9558_0028f84b73b9row3_col2\" class=\"data row3 col2\" >0</td>\n",
       "            </tr>\n",
       "            <tr>\n",
       "                                <td id=\"T_6efe862f_5961_11ea_9558_0028f84b73b9row4_col0\" class=\"data row4 col0\" >Cat</td>\n",
       "                        <td id=\"T_6efe862f_5961_11ea_9558_0028f84b73b9row4_col1\" class=\"data row4 col1\" >0.34</td>\n",
       "                        <td id=\"T_6efe862f_5961_11ea_9558_0028f84b73b9row4_col2\" class=\"data row4 col2\" >0</td>\n",
       "            </tr>\n",
       "            <tr>\n",
       "                                <td id=\"T_6efe862f_5961_11ea_9558_0028f84b73b9row5_col0\" class=\"data row5 col0\" >Lion</td>\n",
       "                        <td id=\"T_6efe862f_5961_11ea_9558_0028f84b73b9row5_col1\" class=\"data row5 col1\" >0.29</td>\n",
       "                        <td id=\"T_6efe862f_5961_11ea_9558_0028f84b73b9row5_col2\" class=\"data row5 col2\" >1</td>\n",
       "            </tr>\n",
       "            <tr>\n",
       "                                <td id=\"T_6efe862f_5961_11ea_9558_0028f84b73b9row6_col0\" class=\"data row6 col0\" >Snake</td>\n",
       "                        <td id=\"T_6efe862f_5961_11ea_9558_0028f84b73b9row6_col1\" class=\"data row6 col1\" >0.31</td>\n",
       "                        <td id=\"T_6efe862f_5961_11ea_9558_0028f84b73b9row6_col2\" class=\"data row6 col2\" >0</td>\n",
       "            </tr>\n",
       "            <tr>\n",
       "                                <td id=\"T_6efe862f_5961_11ea_9558_0028f84b73b9row7_col0\" class=\"data row7 col0\" >Snake</td>\n",
       "                        <td id=\"T_6efe862f_5961_11ea_9558_0028f84b73b9row7_col1\" class=\"data row7 col1\" >0.31</td>\n",
       "                        <td id=\"T_6efe862f_5961_11ea_9558_0028f84b73b9row7_col2\" class=\"data row7 col2\" >0</td>\n",
       "            </tr>\n",
       "            <tr>\n",
       "                                <td id=\"T_6efe862f_5961_11ea_9558_0028f84b73b9row8_col0\" class=\"data row8 col0\" >Lion</td>\n",
       "                        <td id=\"T_6efe862f_5961_11ea_9558_0028f84b73b9row8_col1\" class=\"data row8 col1\" >0.29</td>\n",
       "                        <td id=\"T_6efe862f_5961_11ea_9558_0028f84b73b9row8_col2\" class=\"data row8 col2\" >1</td>\n",
       "            </tr>\n",
       "            <tr>\n",
       "                                <td id=\"T_6efe862f_5961_11ea_9558_0028f84b73b9row9_col0\" class=\"data row9 col0\" >Lion</td>\n",
       "                        <td id=\"T_6efe862f_5961_11ea_9558_0028f84b73b9row9_col1\" class=\"data row9 col1\" >0.29</td>\n",
       "                        <td id=\"T_6efe862f_5961_11ea_9558_0028f84b73b9row9_col2\" class=\"data row9 col2\" >0</td>\n",
       "            </tr>\n",
       "    </tbody></table>"
      ],
      "text/plain": [
       "<pandas.io.formats.style.Styler at 0x7f9011fb8780>"
      ]
     },
     "execution_count": 22,
     "metadata": {},
     "output_type": "execute_result"
    }
   ],
   "source": [
    "display_dataframe(train[[feature_name, f'{feature_name}_enc', target]].sample(10))"
   ]
  },
  {
   "cell_type": "code",
   "execution_count": 23,
   "metadata": {
    "hidden": true
   },
   "outputs": [],
   "source": [
    "encoded_cats = train.groupby(feature_name)[f'{feature_name}_enc'].first().to_dict()\n",
    "encoded_cats = {v:f'{k}_{v:.3f}' for k,v in encoded_cats.items()}"
   ]
  },
  {
   "cell_type": "code",
   "execution_count": 24,
   "metadata": {
    "hidden": true
   },
   "outputs": [
    {
     "data": {
      "image/png": "[encoded data removed]",
      "text/plain": [
       "<Figure size 1152x504 with 1 Axes>"
      ]
     },
     "metadata": {},
     "output_type": "display_data"
    }
   ],
   "source": [
    "grp = train.groupby(f'{feature_name}_enc')[target].mean()\n",
    "grp.index = [encoded_cats[idx] for idx in grp.index]\n",
    "grp.plot(kind='bar', figsize=(16, 7))\n",
    "plt.ylabel('mean target')\n",
    "plt.title('Target encoding vs target mean');"
   ]
  },
  {
   "cell_type": "code",
   "execution_count": 25,
   "metadata": {
    "hidden": true
   },
   "outputs": [
    {
     "name": "stdout",
     "output_type": "stream",
     "text": [
      "Accuracy of final iteration: 0.63\n"
     ]
    }
   ],
   "source": [
    "for feature in categorical:\n",
    "    mean_encode(feature, train, test)\n",
    "\n",
    "results = train_xgb_model(train, test)\n",
    "last_score = results['test'].iloc[-1]\n",
    "print (f'Accuracy of final iteration: {last_score:.2f}')"
   ]
  },
  {
   "cell_type": "markdown",
   "metadata": {
    "hidden": true
   },
   "source": [
    "####  What is going on?"
   ]
  },
  {
   "cell_type": "code",
   "execution_count": 26,
   "metadata": {
    "hidden": true
   },
   "outputs": [
    {
     "data": {
      "image/png": "[encoded data removed]",
      "text/plain": [
       "<Figure size 1152x504 with 1 Axes>"
      ]
     },
     "metadata": {},
     "output_type": "display_data"
    }
   ],
   "source": [
    "results.plot(figsize=(16,7))\n",
    "plt.title('Accuracy: train vs test')\n",
    "plt.ylabel('accuracy')\n",
    "plt.xlabel('boosters');"
   ]
  },
  {
   "cell_type": "markdown",
   "metadata": {
    "hidden": true
   },
   "source": [
    "#### How does the leak happen?"
   ]
  },
  {
   "cell_type": "code",
   "execution_count": 27,
   "metadata": {
    "hidden": true
   },
   "outputs": [
    {
     "data": {
      "text/html": [
       "<style  type=\"text/css\" >\n",
       "    #T_71c63906_5961_11ea_9558_0028f84b73b9 th {\n",
       "          font-size: 12pt;\n",
       "    }    #T_71c63906_5961_11ea_9558_0028f84b73b9 td {\n",
       "          font-size: 12pt;\n",
       "    }    #T_71c63906_5961_11ea_9558_0028f84b73b9 tr:hover td:hover {\n",
       "          max-width: 200px;\n",
       "          font-size: 12pt;\n",
       "    }</style><table id=\"T_71c63906_5961_11ea_9558_0028f84b73b9\" ><thead>    <tr>        <th class=\"col_heading level0 col0\" >feature</th>        <th class=\"col_heading level0 col1\" >target</th>    </tr></thead><tbody>\n",
       "                <tr>\n",
       "                                <td id=\"T_71c63906_5961_11ea_9558_0028f84b73b9row0_col0\" class=\"data row0 col0\" >0</td>\n",
       "                        <td id=\"T_71c63906_5961_11ea_9558_0028f84b73b9row0_col1\" class=\"data row0 col1\" >0</td>\n",
       "            </tr>\n",
       "            <tr>\n",
       "                                <td id=\"T_71c63906_5961_11ea_9558_0028f84b73b9row1_col0\" class=\"data row1 col0\" >1</td>\n",
       "                        <td id=\"T_71c63906_5961_11ea_9558_0028f84b73b9row1_col1\" class=\"data row1 col1\" >0</td>\n",
       "            </tr>\n",
       "            <tr>\n",
       "                                <td id=\"T_71c63906_5961_11ea_9558_0028f84b73b9row2_col0\" class=\"data row2 col0\" >2</td>\n",
       "                        <td id=\"T_71c63906_5961_11ea_9558_0028f84b73b9row2_col1\" class=\"data row2 col1\" >0</td>\n",
       "            </tr>\n",
       "            <tr>\n",
       "                                <td id=\"T_71c63906_5961_11ea_9558_0028f84b73b9row3_col0\" class=\"data row3 col0\" >3</td>\n",
       "                        <td id=\"T_71c63906_5961_11ea_9558_0028f84b73b9row3_col1\" class=\"data row3 col1\" >0</td>\n",
       "            </tr>\n",
       "            <tr>\n",
       "                                <td id=\"T_71c63906_5961_11ea_9558_0028f84b73b9row4_col0\" class=\"data row4 col0\" >4</td>\n",
       "                        <td id=\"T_71c63906_5961_11ea_9558_0028f84b73b9row4_col1\" class=\"data row4 col1\" >0</td>\n",
       "            </tr>\n",
       "    </tbody></table>"
      ],
      "text/plain": [
       "<pandas.io.formats.style.Styler at 0x7f90120db7f0>"
      ]
     },
     "execution_count": 27,
     "metadata": {},
     "output_type": "execute_result"
    }
   ],
   "source": [
    "df = pd.DataFrame({'feature': [0,1,2,3,4],\n",
    "                   'target': np.random.randint(0,2, 5)})\n",
    "display_dataframe(df)"
   ]
  },
  {
   "cell_type": "code",
   "execution_count": 28,
   "metadata": {
    "hidden": true
   },
   "outputs": [
    {
     "data": {
      "text/html": [
       "<style  type=\"text/css\" >\n",
       "    #T_71c63907_5961_11ea_9558_0028f84b73b9 th {\n",
       "          font-size: 12pt;\n",
       "    }    #T_71c63907_5961_11ea_9558_0028f84b73b9 td {\n",
       "          font-size: 12pt;\n",
       "    }    #T_71c63907_5961_11ea_9558_0028f84b73b9 tr:hover td:hover {\n",
       "          max-width: 200px;\n",
       "          font-size: 12pt;\n",
       "    }</style><table id=\"T_71c63907_5961_11ea_9558_0028f84b73b9\" ><thead>    <tr>        <th class=\"col_heading level0 col0\" >feature</th>        <th class=\"col_heading level0 col1\" >target</th>        <th class=\"col_heading level0 col2\" >feature_enc</th>    </tr></thead><tbody>\n",
       "                <tr>\n",
       "                                <td id=\"T_71c63907_5961_11ea_9558_0028f84b73b9row0_col0\" class=\"data row0 col0\" >0</td>\n",
       "                        <td id=\"T_71c63907_5961_11ea_9558_0028f84b73b9row0_col1\" class=\"data row0 col1\" >0</td>\n",
       "                        <td id=\"T_71c63907_5961_11ea_9558_0028f84b73b9row0_col2\" class=\"data row0 col2\" >0</td>\n",
       "            </tr>\n",
       "            <tr>\n",
       "                                <td id=\"T_71c63907_5961_11ea_9558_0028f84b73b9row1_col0\" class=\"data row1 col0\" >1</td>\n",
       "                        <td id=\"T_71c63907_5961_11ea_9558_0028f84b73b9row1_col1\" class=\"data row1 col1\" >0</td>\n",
       "                        <td id=\"T_71c63907_5961_11ea_9558_0028f84b73b9row1_col2\" class=\"data row1 col2\" >0</td>\n",
       "            </tr>\n",
       "            <tr>\n",
       "                                <td id=\"T_71c63907_5961_11ea_9558_0028f84b73b9row2_col0\" class=\"data row2 col0\" >2</td>\n",
       "                        <td id=\"T_71c63907_5961_11ea_9558_0028f84b73b9row2_col1\" class=\"data row2 col1\" >0</td>\n",
       "                        <td id=\"T_71c63907_5961_11ea_9558_0028f84b73b9row2_col2\" class=\"data row2 col2\" >0</td>\n",
       "            </tr>\n",
       "            <tr>\n",
       "                                <td id=\"T_71c63907_5961_11ea_9558_0028f84b73b9row3_col0\" class=\"data row3 col0\" >3</td>\n",
       "                        <td id=\"T_71c63907_5961_11ea_9558_0028f84b73b9row3_col1\" class=\"data row3 col1\" >0</td>\n",
       "                        <td id=\"T_71c63907_5961_11ea_9558_0028f84b73b9row3_col2\" class=\"data row3 col2\" >0</td>\n",
       "            </tr>\n",
       "            <tr>\n",
       "                                <td id=\"T_71c63907_5961_11ea_9558_0028f84b73b9row4_col0\" class=\"data row4 col0\" >4</td>\n",
       "                        <td id=\"T_71c63907_5961_11ea_9558_0028f84b73b9row4_col1\" class=\"data row4 col1\" >0</td>\n",
       "                        <td id=\"T_71c63907_5961_11ea_9558_0028f84b73b9row4_col2\" class=\"data row4 col2\" >0</td>\n",
       "            </tr>\n",
       "    </tbody></table>"
      ],
      "text/plain": [
       "<pandas.io.formats.style.Styler at 0x7f90120dbf60>"
      ]
     },
     "execution_count": 28,
     "metadata": {},
     "output_type": "execute_result"
    }
   ],
   "source": [
    "df['feature_enc'] = df['feature'].map(df.groupby('feature')['target'].mean())\n",
    "display_dataframe(df)"
   ]
  },
  {
   "cell_type": "markdown",
   "metadata": {
    "heading_collapsed": true
   },
   "source": [
    "### 3. Regularization of mean encodings"
   ]
  },
  {
   "cell_type": "markdown",
   "metadata": {
    "hidden": true
   },
   "source": [
    "Simple technique to avoid data leakage, whenever there is enough data, to use an initial portion of the data to learn encodings and train on the rest."
   ]
  },
  {
   "cell_type": "code",
   "execution_count": 29,
   "metadata": {
    "hidden": true
   },
   "outputs": [],
   "source": [
    "def mean_encode_reg(feature_name, train, test):\n",
    "    global_mean = train[target].mean()\n",
    "    kfold = StratifiedKFold(n_splits=5, random_state=1)\n",
    "\n",
    "    for idx_tr, idx_tst in kfold.split(train, train[target]):\n",
    "        tr = train.iloc[idx_tr]\n",
    "        mask = np.zeros(len(train), dtype=bool)\n",
    "        mask[idx_tst] = True\n",
    "        mapping = tr.groupby(feature_name)[target].mean()\n",
    "        train.loc[mask, f'{feature_name}_enc'] = train.loc[mask, feature_name].map(mapping)\n",
    "    \n",
    "    train[f'{feature_name}_enc'].fillna(train[f'{feature_name}_enc'].mean(), inplace=True)\n",
    "    \n",
    "    \n",
    "    mapping = train.groupby(feature_name)[target].mean()\n",
    "    test[f'{feature_name}_enc'] = test[feature_name].map(mapping).fillna(global_mean)"
   ]
  },
  {
   "cell_type": "code",
   "execution_count": 30,
   "metadata": {
    "hidden": true
   },
   "outputs": [
    {
     "name": "stdout",
     "output_type": "stream",
     "text": [
      "Accuracy of final iteration: 0.68\n"
     ]
    }
   ],
   "source": [
    "for feature in categorical:\n",
    "    mean_encode_reg(feature, train, test)\n",
    "\n",
    "results_reg = train_xgb_model(train, test)\n",
    "last_score = results_reg['test'].iloc[-1]\n",
    "print (f'Accuracy of final iteration: {last_score:.2f}')"
   ]
  },
  {
   "cell_type": "code",
   "execution_count": 31,
   "metadata": {
    "hidden": true
   },
   "outputs": [
    {
     "data": {
      "image/png": "[encoded data removed]",
      "text/plain": [
       "<Figure size 1152x504 with 1 Axes>"
      ]
     },
     "metadata": {},
     "output_type": "display_data"
    }
   ],
   "source": [
    "results_reg['test'].plot(figsize=(16,7), label='test reg cv')\n",
    "results_reg['train'].plot(figsize=(16,7), label='train reg cv')\n",
    "\n",
    "results_label['test'].plot(figsize=(16,7), label='test label', style='--')\n",
    "results_label['train'].plot(figsize=(16,7), label='train label', style='--')\n",
    "plt.title('Accuracy: train vs test')\n",
    "plt.legend()\n",
    "plt.ylabel('accuracy')\n",
    "plt.xlabel('boosters');"
   ]
  },
  {
   "cell_type": "markdown",
   "metadata": {
    "heading_collapsed": true
   },
   "source": [
    "### 4. Extensions of mean encodings"
   ]
  },
  {
   "cell_type": "markdown",
   "metadata": {
    "hidden": true
   },
   "source": [
    "1. We can use it with regression problems too!\n",
    "1. We can use other statistics apart from mean, for example median, mode, standard deviation for those.\n",
    "1. Catboost uses a different regularization technique called \"ordered target encoding\" where statsitcs are calculated from the running mean from several permutations. The running mean is set to be the next value.\n",
    "1. Multiclass classification, has advantage of bringing information from all classes to one-vs-all style classification.\n",
    "1. Another place to try this is when we have many to many relationship between features. One example is products and shopping baskets where we can have many products in one shopping basket and we can also have many shopping baskets containing the same product. More details can be found in [this video](https://www.youtube.com/watch?v=ydMc6q98How&list=PLpQWTe-45nxL3bhyAJMEs90KF_gZmuqtm&index=39).\n",
    "\n",
    "#### Conclusions about mean encodings\n",
    "* Regularization could be hard and there are many ways to create dataleaks and overfit.\n",
    "* It doesn't work with all datasets.\n",
    "* But when it works well it can bring a significant improvement!"
   ]
  },
  {
   "cell_type": "markdown",
   "metadata": {
    "heading_collapsed": true,
    "hidden": true
   },
   "source": [
    "#### Mean Encodings References\n",
    "\n",
    " * Why you should try mean encodings: [link](https://towardsdatascience.com/why-you-should-try-mean-encoding-17057262cd0).\n",
    " * Good introduction on Coursera: How to Win a Data Science Competition video: [video 37](https://www.youtube.com/watch?v=AV_hJN1ALnI&list=PLpQWTe-45nxL3bhyAJMEs90KF_gZmuqtm&index=37).\n",
    " * Another useful [blogpost](https://towardsdatascience.com/getting-deeper-into-categorical-encodings-for-machine-learning-2312acd347c8).\n",
    " * CatBoost documentation explaining ordered target encoding [link](https://catboost.ai/docs/concepts/algorithm-main-stages_cat-to-numberic.html)\n",
    " * **category_encoders**: Library implementing various encodings compatible with sklearn: [link](https://contrib.scikit-learn.org/categorical-encoding/)"
   ]
  },
  {
   "cell_type": "markdown",
   "metadata": {
    "heading_collapsed": true
   },
   "source": [
    "### 5. Group statistics"
   ]
  },
  {
   "cell_type": "code",
   "execution_count": 32,
   "metadata": {
    "hidden": true
   },
   "outputs": [
    {
     "data": {
      "text/html": [
       "<style  type=\"text/css\" >\n",
       "    #T_74535bf4_5961_11ea_9558_0028f84b73b9 th {\n",
       "          font-size: 12pt;\n",
       "    }    #T_74535bf4_5961_11ea_9558_0028f84b73b9 td {\n",
       "          font-size: 12pt;\n",
       "    }    #T_74535bf4_5961_11ea_9558_0028f84b73b9 tr:hover td:hover {\n",
       "          max-width: 200px;\n",
       "          font-size: 12pt;\n",
       "    }</style><table id=\"T_74535bf4_5961_11ea_9558_0028f84b73b9\" ><thead>    <tr>        <th class=\"col_heading level0 col0\" >PassengerId</th>        <th class=\"col_heading level0 col1\" >Survived</th>        <th class=\"col_heading level0 col2\" >Pclass</th>        <th class=\"col_heading level0 col3\" >Name</th>        <th class=\"col_heading level0 col4\" >Sex</th>        <th class=\"col_heading level0 col5\" >Age</th>        <th class=\"col_heading level0 col6\" >SibSp</th>        <th class=\"col_heading level0 col7\" >Parch</th>        <th class=\"col_heading level0 col8\" >Ticket</th>        <th class=\"col_heading level0 col9\" >Fare</th>        <th class=\"col_heading level0 col10\" >Cabin</th>        <th class=\"col_heading level0 col11\" >Embarked</th>    </tr></thead><tbody>\n",
       "                <tr>\n",
       "                                <td id=\"T_74535bf4_5961_11ea_9558_0028f84b73b9row0_col0\" class=\"data row0 col0\" >1</td>\n",
       "                        <td id=\"T_74535bf4_5961_11ea_9558_0028f84b73b9row0_col1\" class=\"data row0 col1\" >0</td>\n",
       "                        <td id=\"T_74535bf4_5961_11ea_9558_0028f84b73b9row0_col2\" class=\"data row0 col2\" >3</td>\n",
       "                        <td id=\"T_74535bf4_5961_11ea_9558_0028f84b73b9row0_col3\" class=\"data row0 col3\" >Braund, Mr. Owen Harris</td>\n",
       "                        <td id=\"T_74535bf4_5961_11ea_9558_0028f84b73b9row0_col4\" class=\"data row0 col4\" >male</td>\n",
       "                        <td id=\"T_74535bf4_5961_11ea_9558_0028f84b73b9row0_col5\" class=\"data row0 col5\" >22.00</td>\n",
       "                        <td id=\"T_74535bf4_5961_11ea_9558_0028f84b73b9row0_col6\" class=\"data row0 col6\" >1</td>\n",
       "                        <td id=\"T_74535bf4_5961_11ea_9558_0028f84b73b9row0_col7\" class=\"data row0 col7\" >0</td>\n",
       "                        <td id=\"T_74535bf4_5961_11ea_9558_0028f84b73b9row0_col8\" class=\"data row0 col8\" >A/5 21171</td>\n",
       "                        <td id=\"T_74535bf4_5961_11ea_9558_0028f84b73b9row0_col9\" class=\"data row0 col9\" >7.25</td>\n",
       "                        <td id=\"T_74535bf4_5961_11ea_9558_0028f84b73b9row0_col10\" class=\"data row0 col10\" >nan</td>\n",
       "                        <td id=\"T_74535bf4_5961_11ea_9558_0028f84b73b9row0_col11\" class=\"data row0 col11\" >S</td>\n",
       "            </tr>\n",
       "            <tr>\n",
       "                                <td id=\"T_74535bf4_5961_11ea_9558_0028f84b73b9row1_col0\" class=\"data row1 col0\" >2</td>\n",
       "                        <td id=\"T_74535bf4_5961_11ea_9558_0028f84b73b9row1_col1\" class=\"data row1 col1\" >1</td>\n",
       "                        <td id=\"T_74535bf4_5961_11ea_9558_0028f84b73b9row1_col2\" class=\"data row1 col2\" >1</td>\n",
       "                        <td id=\"T_74535bf4_5961_11ea_9558_0028f84b73b9row1_col3\" class=\"data row1 col3\" >Cumings, Mrs. John Bradley (Florence Briggs Thayer)</td>\n",
       "                        <td id=\"T_74535bf4_5961_11ea_9558_0028f84b73b9row1_col4\" class=\"data row1 col4\" >female</td>\n",
       "                        <td id=\"T_74535bf4_5961_11ea_9558_0028f84b73b9row1_col5\" class=\"data row1 col5\" >38.00</td>\n",
       "                        <td id=\"T_74535bf4_5961_11ea_9558_0028f84b73b9row1_col6\" class=\"data row1 col6\" >1</td>\n",
       "                        <td id=\"T_74535bf4_5961_11ea_9558_0028f84b73b9row1_col7\" class=\"data row1 col7\" >0</td>\n",
       "                        <td id=\"T_74535bf4_5961_11ea_9558_0028f84b73b9row1_col8\" class=\"data row1 col8\" >PC 17599</td>\n",
       "                        <td id=\"T_74535bf4_5961_11ea_9558_0028f84b73b9row1_col9\" class=\"data row1 col9\" >71.28</td>\n",
       "                        <td id=\"T_74535bf4_5961_11ea_9558_0028f84b73b9row1_col10\" class=\"data row1 col10\" >C85</td>\n",
       "                        <td id=\"T_74535bf4_5961_11ea_9558_0028f84b73b9row1_col11\" class=\"data row1 col11\" >C</td>\n",
       "            </tr>\n",
       "            <tr>\n",
       "                                <td id=\"T_74535bf4_5961_11ea_9558_0028f84b73b9row2_col0\" class=\"data row2 col0\" >3</td>\n",
       "                        <td id=\"T_74535bf4_5961_11ea_9558_0028f84b73b9row2_col1\" class=\"data row2 col1\" >1</td>\n",
       "                        <td id=\"T_74535bf4_5961_11ea_9558_0028f84b73b9row2_col2\" class=\"data row2 col2\" >3</td>\n",
       "                        <td id=\"T_74535bf4_5961_11ea_9558_0028f84b73b9row2_col3\" class=\"data row2 col3\" >Heikkinen, Miss. Laina</td>\n",
       "                        <td id=\"T_74535bf4_5961_11ea_9558_0028f84b73b9row2_col4\" class=\"data row2 col4\" >female</td>\n",
       "                        <td id=\"T_74535bf4_5961_11ea_9558_0028f84b73b9row2_col5\" class=\"data row2 col5\" >26.00</td>\n",
       "                        <td id=\"T_74535bf4_5961_11ea_9558_0028f84b73b9row2_col6\" class=\"data row2 col6\" >0</td>\n",
       "                        <td id=\"T_74535bf4_5961_11ea_9558_0028f84b73b9row2_col7\" class=\"data row2 col7\" >0</td>\n",
       "                        <td id=\"T_74535bf4_5961_11ea_9558_0028f84b73b9row2_col8\" class=\"data row2 col8\" >STON/O2. 3101282</td>\n",
       "                        <td id=\"T_74535bf4_5961_11ea_9558_0028f84b73b9row2_col9\" class=\"data row2 col9\" >7.92</td>\n",
       "                        <td id=\"T_74535bf4_5961_11ea_9558_0028f84b73b9row2_col10\" class=\"data row2 col10\" >nan</td>\n",
       "                        <td id=\"T_74535bf4_5961_11ea_9558_0028f84b73b9row2_col11\" class=\"data row2 col11\" >S</td>\n",
       "            </tr>\n",
       "            <tr>\n",
       "                                <td id=\"T_74535bf4_5961_11ea_9558_0028f84b73b9row3_col0\" class=\"data row3 col0\" >4</td>\n",
       "                        <td id=\"T_74535bf4_5961_11ea_9558_0028f84b73b9row3_col1\" class=\"data row3 col1\" >1</td>\n",
       "                        <td id=\"T_74535bf4_5961_11ea_9558_0028f84b73b9row3_col2\" class=\"data row3 col2\" >1</td>\n",
       "                        <td id=\"T_74535bf4_5961_11ea_9558_0028f84b73b9row3_col3\" class=\"data row3 col3\" >Futrelle, Mrs. Jacques Heath (Lily May Peel)</td>\n",
       "                        <td id=\"T_74535bf4_5961_11ea_9558_0028f84b73b9row3_col4\" class=\"data row3 col4\" >female</td>\n",
       "                        <td id=\"T_74535bf4_5961_11ea_9558_0028f84b73b9row3_col5\" class=\"data row3 col5\" >35.00</td>\n",
       "                        <td id=\"T_74535bf4_5961_11ea_9558_0028f84b73b9row3_col6\" class=\"data row3 col6\" >1</td>\n",
       "                        <td id=\"T_74535bf4_5961_11ea_9558_0028f84b73b9row3_col7\" class=\"data row3 col7\" >0</td>\n",
       "                        <td id=\"T_74535bf4_5961_11ea_9558_0028f84b73b9row3_col8\" class=\"data row3 col8\" >113803</td>\n",
       "                        <td id=\"T_74535bf4_5961_11ea_9558_0028f84b73b9row3_col9\" class=\"data row3 col9\" >53.10</td>\n",
       "                        <td id=\"T_74535bf4_5961_11ea_9558_0028f84b73b9row3_col10\" class=\"data row3 col10\" >C123</td>\n",
       "                        <td id=\"T_74535bf4_5961_11ea_9558_0028f84b73b9row3_col11\" class=\"data row3 col11\" >S</td>\n",
       "            </tr>\n",
       "            <tr>\n",
       "                                <td id=\"T_74535bf4_5961_11ea_9558_0028f84b73b9row4_col0\" class=\"data row4 col0\" >5</td>\n",
       "                        <td id=\"T_74535bf4_5961_11ea_9558_0028f84b73b9row4_col1\" class=\"data row4 col1\" >0</td>\n",
       "                        <td id=\"T_74535bf4_5961_11ea_9558_0028f84b73b9row4_col2\" class=\"data row4 col2\" >3</td>\n",
       "                        <td id=\"T_74535bf4_5961_11ea_9558_0028f84b73b9row4_col3\" class=\"data row4 col3\" >Allen, Mr. William Henry</td>\n",
       "                        <td id=\"T_74535bf4_5961_11ea_9558_0028f84b73b9row4_col4\" class=\"data row4 col4\" >male</td>\n",
       "                        <td id=\"T_74535bf4_5961_11ea_9558_0028f84b73b9row4_col5\" class=\"data row4 col5\" >35.00</td>\n",
       "                        <td id=\"T_74535bf4_5961_11ea_9558_0028f84b73b9row4_col6\" class=\"data row4 col6\" >0</td>\n",
       "                        <td id=\"T_74535bf4_5961_11ea_9558_0028f84b73b9row4_col7\" class=\"data row4 col7\" >0</td>\n",
       "                        <td id=\"T_74535bf4_5961_11ea_9558_0028f84b73b9row4_col8\" class=\"data row4 col8\" >373450</td>\n",
       "                        <td id=\"T_74535bf4_5961_11ea_9558_0028f84b73b9row4_col9\" class=\"data row4 col9\" >8.05</td>\n",
       "                        <td id=\"T_74535bf4_5961_11ea_9558_0028f84b73b9row4_col10\" class=\"data row4 col10\" >nan</td>\n",
       "                        <td id=\"T_74535bf4_5961_11ea_9558_0028f84b73b9row4_col11\" class=\"data row4 col11\" >S</td>\n",
       "            </tr>\n",
       "    </tbody></table>"
      ],
      "text/plain": [
       "<pandas.io.formats.style.Styler at 0x7f9011f2dba8>"
      ]
     },
     "execution_count": 32,
     "metadata": {},
     "output_type": "execute_result"
    }
   ],
   "source": [
    "data = pd.read_csv('titanic/train.csv')\n",
    "display_dataframe(data.head())"
   ]
  },
  {
   "cell_type": "code",
   "execution_count": 33,
   "metadata": {
    "hidden": true
   },
   "outputs": [],
   "source": [
    "def group_statistic( grouped_variable, value_variable, aggregation_method):\n",
    "    mapping = data.groupby(grouped_variable)[value_variable].agg(aggregation_method)\n",
    "    return data[grouped_variable].map(mapping)"
   ]
  },
  {
   "cell_type": "code",
   "execution_count": 34,
   "metadata": {
    "hidden": true
   },
   "outputs": [],
   "source": [
    "data['max_age'] = group_statistic('Pclass', 'Age', np.max)\n",
    "data['min_age'] = group_statistic('Pclass', 'Age', np.min)\n",
    "data['median_age'] = group_statistic('Pclass', 'Age', np.median)"
   ]
  },
  {
   "cell_type": "code",
   "execution_count": 35,
   "metadata": {
    "hidden": true
   },
   "outputs": [],
   "source": [
    "data['max_fare'] = group_statistic('Pclass', 'Fare', np.max)\n",
    "data['min_fare'] = group_statistic('Pclass', 'Fare', np.min)\n",
    "data['median_fare'] = group_statistic('Pclass', 'Fare', np.median)"
   ]
  },
  {
   "cell_type": "code",
   "execution_count": 36,
   "metadata": {
    "hidden": true
   },
   "outputs": [],
   "source": [
    "data['max_fare_emb'] = group_statistic('Embarked', 'Fare', np.max)\n",
    "data['min_fare_emb'] = group_statistic('Embarked', 'Fare', np.min)\n",
    "data['median_fare_emb'] = group_statistic('Embarked', 'Fare', np.median)"
   ]
  },
  {
   "cell_type": "code",
   "execution_count": 37,
   "metadata": {
    "hidden": true
   },
   "outputs": [
    {
     "data": {
      "text/html": [
       "<style  type=\"text/css\" >\n",
       "    #T_74535bf5_5961_11ea_9558_0028f84b73b9 th {\n",
       "          font-size: 12pt;\n",
       "    }    #T_74535bf5_5961_11ea_9558_0028f84b73b9 td {\n",
       "          font-size: 12pt;\n",
       "    }    #T_74535bf5_5961_11ea_9558_0028f84b73b9 tr:hover td:hover {\n",
       "          max-width: 200px;\n",
       "          font-size: 12pt;\n",
       "    }</style><table id=\"T_74535bf5_5961_11ea_9558_0028f84b73b9\" ><thead>    <tr>        <th class=\"col_heading level0 col0\" >Pclass</th>        <th class=\"col_heading level0 col1\" >max_age</th>        <th class=\"col_heading level0 col2\" >median_age</th>        <th class=\"col_heading level0 col3\" >max_fare</th>        <th class=\"col_heading level0 col4\" >min_fare</th>    </tr></thead><tbody>\n",
       "                <tr>\n",
       "                                <td id=\"T_74535bf5_5961_11ea_9558_0028f84b73b9row0_col0\" class=\"data row0 col0\" >3</td>\n",
       "                        <td id=\"T_74535bf5_5961_11ea_9558_0028f84b73b9row0_col1\" class=\"data row0 col1\" >74.00</td>\n",
       "                        <td id=\"T_74535bf5_5961_11ea_9558_0028f84b73b9row0_col2\" class=\"data row0 col2\" >24.00</td>\n",
       "                        <td id=\"T_74535bf5_5961_11ea_9558_0028f84b73b9row0_col3\" class=\"data row0 col3\" >69.55</td>\n",
       "                        <td id=\"T_74535bf5_5961_11ea_9558_0028f84b73b9row0_col4\" class=\"data row0 col4\" >0.00</td>\n",
       "            </tr>\n",
       "            <tr>\n",
       "                                <td id=\"T_74535bf5_5961_11ea_9558_0028f84b73b9row1_col0\" class=\"data row1 col0\" >1</td>\n",
       "                        <td id=\"T_74535bf5_5961_11ea_9558_0028f84b73b9row1_col1\" class=\"data row1 col1\" >80.00</td>\n",
       "                        <td id=\"T_74535bf5_5961_11ea_9558_0028f84b73b9row1_col2\" class=\"data row1 col2\" >37.00</td>\n",
       "                        <td id=\"T_74535bf5_5961_11ea_9558_0028f84b73b9row1_col3\" class=\"data row1 col3\" >512.33</td>\n",
       "                        <td id=\"T_74535bf5_5961_11ea_9558_0028f84b73b9row1_col4\" class=\"data row1 col4\" >0.00</td>\n",
       "            </tr>\n",
       "            <tr>\n",
       "                                <td id=\"T_74535bf5_5961_11ea_9558_0028f84b73b9row2_col0\" class=\"data row2 col0\" >3</td>\n",
       "                        <td id=\"T_74535bf5_5961_11ea_9558_0028f84b73b9row2_col1\" class=\"data row2 col1\" >74.00</td>\n",
       "                        <td id=\"T_74535bf5_5961_11ea_9558_0028f84b73b9row2_col2\" class=\"data row2 col2\" >24.00</td>\n",
       "                        <td id=\"T_74535bf5_5961_11ea_9558_0028f84b73b9row2_col3\" class=\"data row2 col3\" >69.55</td>\n",
       "                        <td id=\"T_74535bf5_5961_11ea_9558_0028f84b73b9row2_col4\" class=\"data row2 col4\" >0.00</td>\n",
       "            </tr>\n",
       "            <tr>\n",
       "                                <td id=\"T_74535bf5_5961_11ea_9558_0028f84b73b9row3_col0\" class=\"data row3 col0\" >1</td>\n",
       "                        <td id=\"T_74535bf5_5961_11ea_9558_0028f84b73b9row3_col1\" class=\"data row3 col1\" >80.00</td>\n",
       "                        <td id=\"T_74535bf5_5961_11ea_9558_0028f84b73b9row3_col2\" class=\"data row3 col2\" >37.00</td>\n",
       "                        <td id=\"T_74535bf5_5961_11ea_9558_0028f84b73b9row3_col3\" class=\"data row3 col3\" >512.33</td>\n",
       "                        <td id=\"T_74535bf5_5961_11ea_9558_0028f84b73b9row3_col4\" class=\"data row3 col4\" >0.00</td>\n",
       "            </tr>\n",
       "            <tr>\n",
       "                                <td id=\"T_74535bf5_5961_11ea_9558_0028f84b73b9row4_col0\" class=\"data row4 col0\" >3</td>\n",
       "                        <td id=\"T_74535bf5_5961_11ea_9558_0028f84b73b9row4_col1\" class=\"data row4 col1\" >74.00</td>\n",
       "                        <td id=\"T_74535bf5_5961_11ea_9558_0028f84b73b9row4_col2\" class=\"data row4 col2\" >24.00</td>\n",
       "                        <td id=\"T_74535bf5_5961_11ea_9558_0028f84b73b9row4_col3\" class=\"data row4 col3\" >69.55</td>\n",
       "                        <td id=\"T_74535bf5_5961_11ea_9558_0028f84b73b9row4_col4\" class=\"data row4 col4\" >0.00</td>\n",
       "            </tr>\n",
       "    </tbody></table>"
      ],
      "text/plain": [
       "<pandas.io.formats.style.Styler at 0x7f9011f069e8>"
      ]
     },
     "execution_count": 37,
     "metadata": {},
     "output_type": "execute_result"
    }
   ],
   "source": [
    "display_dataframe(data[['Pclass', 'max_age', 'median_age', 'max_fare', 'min_fare']].head())"
   ]
  },
  {
   "cell_type": "markdown",
   "metadata": {
    "hidden": true
   },
   "source": [
    "The same techniques apply really well with time series data and a rolling window."
   ]
  },
  {
   "cell_type": "markdown",
   "metadata": {
    "heading_collapsed": true
   },
   "source": [
    "### 6. Group statistics with nearest neigbours"
   ]
  },
  {
   "cell_type": "markdown",
   "metadata": {
    "hidden": true
   },
   "source": [
    "This is a very flexible technique to create groups whenever they might not naturally occur. \n",
    "\n",
    "Apart from sklearn's implementation for nearest neighbour search check out:\n",
    "\n",
    " * **FLANN** - Fast Library for Approximate Nearest Neighbors\n",
    "\n",
    " * **ANNOY** - Approximate Nearest Neighbors Oh Yeah\n",
    " \n",
    "These two are really fast but target lowish dimensionality < 1000.\n",
    "\n",
    " * **pysparnn** - Approximate Nearest Neighbor Search for Sparse Data in Python\n",
    "\n",
    "This one can handle sparse inputs, for example out of Tf-Idf or HashingVectorizer transformation. It is still extremelly fast in higher dimensional spaces."
   ]
  },
  {
   "cell_type": "code",
   "execution_count": 38,
   "metadata": {
    "hidden": true
   },
   "outputs": [],
   "source": [
    "tfidf = TfidfVectorizer()\n",
    "data['name_clean'] = data['Name'].str.replace('\\W', ' ').str.lower()\n",
    "name_vectorized = tfidf.fit_transform(data.name_clean).toarray()\n",
    "\n",
    "k_tree = NearestNeighbors(metric='cosine', n_neighbors=3,).fit(name_vectorized)\n",
    "distance, idx = k_tree.kneighbors(name_vectorized)\n",
    "distance, idx = distance[:, 1:], idx[:, 1:]"
   ]
  },
  {
   "cell_type": "code",
   "execution_count": 39,
   "metadata": {
    "hidden": true
   },
   "outputs": [
    {
     "data": {
      "text/plain": [
       "(array([0.91609047, 0.92054691]), array([128, 264]))"
      ]
     },
     "execution_count": 39,
     "metadata": {},
     "output_type": "execute_result"
    }
   ],
   "source": [
    "i = 2\n",
    "distance[i, :], idx[i, :]"
   ]
  },
  {
   "cell_type": "code",
   "execution_count": 40,
   "metadata": {
    "hidden": true
   },
   "outputs": [
    {
     "data": {
      "text/plain": [
       "('heikkinen  miss  laina', 'peter  miss  anna', 'henry  miss  delia')"
      ]
     },
     "execution_count": 40,
     "metadata": {},
     "output_type": "execute_result"
    }
   ],
   "source": [
    "data.iloc[i].name_clean, data.iloc[idx[i, 0]].name_clean, data.iloc[idx[i, 1]].name_clean "
   ]
  },
  {
   "cell_type": "code",
   "execution_count": 41,
   "metadata": {
    "hidden": true
   },
   "outputs": [],
   "source": [
    "data['n0_survived'] = data.iloc[idx[:,0]]['Survived'].values\n",
    "data['n0_class'] = data.iloc[idx[:,0]]['Pclass'].values\n",
    "data['n0_fare'] = data.iloc[idx[:,0]]['Fare'].values\n",
    "data['n0_sex'] = data.iloc[idx[:,0]]['Sex'].values\n",
    "data['n0_age'] = data.iloc[idx[:,0]]['Age'].values\n",
    "data['n0_dist'] = distance[:, 0]\n",
    "\n",
    "data['n1_survived'] = data.iloc[idx[:,1]]['Survived'].values\n",
    "data['n1_class'] = data.iloc[idx[:,1]]['Pclass'].values\n",
    "data['n1_fare'] = data.iloc[idx[:,1]]['Fare'].values\n",
    "data['n1_sex'] = data.iloc[idx[:,1]]['Sex'].values\n",
    "data['n1_age'] = data.iloc[idx[:,1]]['Age'].values\n",
    "data['n1_dist'] = distance[:, 1]\n",
    "\n",
    "data['n0_n1_survived'] =  (data.iloc[idx[:,0]]['Survived'].values & \n",
    "                           data.iloc[idx[:,1]]['Survived'].values)\n",
    "data['n0_n1_mean_fare'] = (data.iloc[idx[:,0]]['Fare'].values + \n",
    "                           data.iloc[idx[:,1]]['Fare'].values) / 2."
   ]
  },
  {
   "cell_type": "markdown",
   "metadata": {
    "heading_collapsed": true
   },
   "source": [
    "### 7. Feature interactions and feature selection"
   ]
  },
  {
   "cell_type": "code",
   "execution_count": 42,
   "metadata": {
    "hidden": true
   },
   "outputs": [
    {
     "data": {
      "text/html": [
       "<style  type=\"text/css\" >\n",
       "    #T_74535bf6_5961_11ea_9558_0028f84b73b9 th {\n",
       "          font-size: 12pt;\n",
       "    }    #T_74535bf6_5961_11ea_9558_0028f84b73b9 td {\n",
       "          font-size: 12pt;\n",
       "    }    #T_74535bf6_5961_11ea_9558_0028f84b73b9 tr:hover td:hover {\n",
       "          max-width: 200px;\n",
       "          font-size: 12pt;\n",
       "    }</style><table id=\"T_74535bf6_5961_11ea_9558_0028f84b73b9\" ><thead>    <tr>        <th class=\"col_heading level0 col0\" >Embarked</th>        <th class=\"col_heading level0 col1\" >Pclass</th>    </tr></thead><tbody>\n",
       "                <tr>\n",
       "                                <td id=\"T_74535bf6_5961_11ea_9558_0028f84b73b9row0_col0\" class=\"data row0 col0\" >S</td>\n",
       "                        <td id=\"T_74535bf6_5961_11ea_9558_0028f84b73b9row0_col1\" class=\"data row0 col1\" >3</td>\n",
       "            </tr>\n",
       "            <tr>\n",
       "                                <td id=\"T_74535bf6_5961_11ea_9558_0028f84b73b9row1_col0\" class=\"data row1 col0\" >C</td>\n",
       "                        <td id=\"T_74535bf6_5961_11ea_9558_0028f84b73b9row1_col1\" class=\"data row1 col1\" >1</td>\n",
       "            </tr>\n",
       "            <tr>\n",
       "                                <td id=\"T_74535bf6_5961_11ea_9558_0028f84b73b9row2_col0\" class=\"data row2 col0\" >S</td>\n",
       "                        <td id=\"T_74535bf6_5961_11ea_9558_0028f84b73b9row2_col1\" class=\"data row2 col1\" >3</td>\n",
       "            </tr>\n",
       "            <tr>\n",
       "                                <td id=\"T_74535bf6_5961_11ea_9558_0028f84b73b9row3_col0\" class=\"data row3 col0\" >S</td>\n",
       "                        <td id=\"T_74535bf6_5961_11ea_9558_0028f84b73b9row3_col1\" class=\"data row3 col1\" >1</td>\n",
       "            </tr>\n",
       "            <tr>\n",
       "                                <td id=\"T_74535bf6_5961_11ea_9558_0028f84b73b9row4_col0\" class=\"data row4 col0\" >S</td>\n",
       "                        <td id=\"T_74535bf6_5961_11ea_9558_0028f84b73b9row4_col1\" class=\"data row4 col1\" >3</td>\n",
       "            </tr>\n",
       "    </tbody></table>"
      ],
      "text/plain": [
       "<pandas.io.formats.style.Styler at 0x7f9012138630>"
      ]
     },
     "execution_count": 42,
     "metadata": {},
     "output_type": "execute_result"
    }
   ],
   "source": [
    "display_dataframe(data[['Embarked', 'Pclass']].head())"
   ]
  },
  {
   "cell_type": "code",
   "execution_count": 43,
   "metadata": {
    "hidden": true
   },
   "outputs": [],
   "source": [
    "data['embarked_class'] = (data['Pclass'].astype(str) + data['Embarked'])"
   ]
  },
  {
   "cell_type": "code",
   "execution_count": 44,
   "metadata": {
    "hidden": true
   },
   "outputs": [
    {
     "data": {
      "text/html": [
       "<style  type=\"text/css\" >\n",
       "    #T_74535bf7_5961_11ea_9558_0028f84b73b9 th {\n",
       "          font-size: 12pt;\n",
       "    }    #T_74535bf7_5961_11ea_9558_0028f84b73b9 td {\n",
       "          font-size: 12pt;\n",
       "    }    #T_74535bf7_5961_11ea_9558_0028f84b73b9 tr:hover td:hover {\n",
       "          max-width: 200px;\n",
       "          font-size: 12pt;\n",
       "    }</style><table id=\"T_74535bf7_5961_11ea_9558_0028f84b73b9\" ><thead>    <tr>        <th class=\"col_heading level0 col0\" >Embarked</th>        <th class=\"col_heading level0 col1\" >Pclass</th>        <th class=\"col_heading level0 col2\" >embarked_class</th>    </tr></thead><tbody>\n",
       "                <tr>\n",
       "                                <td id=\"T_74535bf7_5961_11ea_9558_0028f84b73b9row0_col0\" class=\"data row0 col0\" >S</td>\n",
       "                        <td id=\"T_74535bf7_5961_11ea_9558_0028f84b73b9row0_col1\" class=\"data row0 col1\" >3</td>\n",
       "                        <td id=\"T_74535bf7_5961_11ea_9558_0028f84b73b9row0_col2\" class=\"data row0 col2\" >3S</td>\n",
       "            </tr>\n",
       "            <tr>\n",
       "                                <td id=\"T_74535bf7_5961_11ea_9558_0028f84b73b9row1_col0\" class=\"data row1 col0\" >C</td>\n",
       "                        <td id=\"T_74535bf7_5961_11ea_9558_0028f84b73b9row1_col1\" class=\"data row1 col1\" >1</td>\n",
       "                        <td id=\"T_74535bf7_5961_11ea_9558_0028f84b73b9row1_col2\" class=\"data row1 col2\" >1C</td>\n",
       "            </tr>\n",
       "            <tr>\n",
       "                                <td id=\"T_74535bf7_5961_11ea_9558_0028f84b73b9row2_col0\" class=\"data row2 col0\" >S</td>\n",
       "                        <td id=\"T_74535bf7_5961_11ea_9558_0028f84b73b9row2_col1\" class=\"data row2 col1\" >3</td>\n",
       "                        <td id=\"T_74535bf7_5961_11ea_9558_0028f84b73b9row2_col2\" class=\"data row2 col2\" >3S</td>\n",
       "            </tr>\n",
       "            <tr>\n",
       "                                <td id=\"T_74535bf7_5961_11ea_9558_0028f84b73b9row3_col0\" class=\"data row3 col0\" >S</td>\n",
       "                        <td id=\"T_74535bf7_5961_11ea_9558_0028f84b73b9row3_col1\" class=\"data row3 col1\" >1</td>\n",
       "                        <td id=\"T_74535bf7_5961_11ea_9558_0028f84b73b9row3_col2\" class=\"data row3 col2\" >1S</td>\n",
       "            </tr>\n",
       "            <tr>\n",
       "                                <td id=\"T_74535bf7_5961_11ea_9558_0028f84b73b9row4_col0\" class=\"data row4 col0\" >S</td>\n",
       "                        <td id=\"T_74535bf7_5961_11ea_9558_0028f84b73b9row4_col1\" class=\"data row4 col1\" >3</td>\n",
       "                        <td id=\"T_74535bf7_5961_11ea_9558_0028f84b73b9row4_col2\" class=\"data row4 col2\" >3S</td>\n",
       "            </tr>\n",
       "    </tbody></table>"
      ],
      "text/plain": [
       "<pandas.io.formats.style.Styler at 0x7f90120197b8>"
      ]
     },
     "execution_count": 44,
     "metadata": {},
     "output_type": "execute_result"
    }
   ],
   "source": [
    "display_dataframe(data[['Embarked', 'Pclass', 'embarked_class']].head())"
   ]
  },
  {
   "cell_type": "code",
   "execution_count": 45,
   "metadata": {
    "hidden": true
   },
   "outputs": [],
   "source": [
    "data['sex_class'] = data['Sex'] + data['Pclass'].astype(str)\n",
    "data['age_buckets'] = pd.cut(data['Age'], 5) # pd.cut creates evenly spaced buckets\n",
    "data['age_sex_class'] = data['sex_class'] + data['age_buckets'].astype(str)"
   ]
  },
  {
   "cell_type": "code",
   "execution_count": 46,
   "metadata": {
    "hidden": true
   },
   "outputs": [
    {
     "data": {
      "text/html": [
       "<style  type=\"text/css\" >\n",
       "    #T_74535bf8_5961_11ea_9558_0028f84b73b9 th {\n",
       "          font-size: 12pt;\n",
       "    }    #T_74535bf8_5961_11ea_9558_0028f84b73b9 td {\n",
       "          font-size: 12pt;\n",
       "    }    #T_74535bf8_5961_11ea_9558_0028f84b73b9 tr:hover td:hover {\n",
       "          max-width: 200px;\n",
       "          font-size: 12pt;\n",
       "    }</style><table id=\"T_74535bf8_5961_11ea_9558_0028f84b73b9\" ><thead>    <tr>        <th class=\"col_heading level0 col0\" >embarked_class</th>        <th class=\"col_heading level0 col1\" >count</th>    </tr></thead><tbody>\n",
       "                <tr>\n",
       "                                <td id=\"T_74535bf8_5961_11ea_9558_0028f84b73b9row0_col0\" class=\"data row0 col0\" >3S</td>\n",
       "                        <td id=\"T_74535bf8_5961_11ea_9558_0028f84b73b9row0_col1\" class=\"data row0 col1\" >353</td>\n",
       "            </tr>\n",
       "            <tr>\n",
       "                                <td id=\"T_74535bf8_5961_11ea_9558_0028f84b73b9row1_col0\" class=\"data row1 col0\" >2S</td>\n",
       "                        <td id=\"T_74535bf8_5961_11ea_9558_0028f84b73b9row1_col1\" class=\"data row1 col1\" >164</td>\n",
       "            </tr>\n",
       "            <tr>\n",
       "                                <td id=\"T_74535bf8_5961_11ea_9558_0028f84b73b9row2_col0\" class=\"data row2 col0\" >1S</td>\n",
       "                        <td id=\"T_74535bf8_5961_11ea_9558_0028f84b73b9row2_col1\" class=\"data row2 col1\" >127</td>\n",
       "            </tr>\n",
       "            <tr>\n",
       "                                <td id=\"T_74535bf8_5961_11ea_9558_0028f84b73b9row3_col0\" class=\"data row3 col0\" >1C</td>\n",
       "                        <td id=\"T_74535bf8_5961_11ea_9558_0028f84b73b9row3_col1\" class=\"data row3 col1\" >85</td>\n",
       "            </tr>\n",
       "            <tr>\n",
       "                                <td id=\"T_74535bf8_5961_11ea_9558_0028f84b73b9row4_col0\" class=\"data row4 col0\" >3Q</td>\n",
       "                        <td id=\"T_74535bf8_5961_11ea_9558_0028f84b73b9row4_col1\" class=\"data row4 col1\" >72</td>\n",
       "            </tr>\n",
       "            <tr>\n",
       "                                <td id=\"T_74535bf8_5961_11ea_9558_0028f84b73b9row5_col0\" class=\"data row5 col0\" >3C</td>\n",
       "                        <td id=\"T_74535bf8_5961_11ea_9558_0028f84b73b9row5_col1\" class=\"data row5 col1\" >66</td>\n",
       "            </tr>\n",
       "            <tr>\n",
       "                                <td id=\"T_74535bf8_5961_11ea_9558_0028f84b73b9row6_col0\" class=\"data row6 col0\" >2C</td>\n",
       "                        <td id=\"T_74535bf8_5961_11ea_9558_0028f84b73b9row6_col1\" class=\"data row6 col1\" >17</td>\n",
       "            </tr>\n",
       "            <tr>\n",
       "                                <td id=\"T_74535bf8_5961_11ea_9558_0028f84b73b9row7_col0\" class=\"data row7 col0\" >2Q</td>\n",
       "                        <td id=\"T_74535bf8_5961_11ea_9558_0028f84b73b9row7_col1\" class=\"data row7 col1\" >3</td>\n",
       "            </tr>\n",
       "            <tr>\n",
       "                                <td id=\"T_74535bf8_5961_11ea_9558_0028f84b73b9row8_col0\" class=\"data row8 col0\" >1Q</td>\n",
       "                        <td id=\"T_74535bf8_5961_11ea_9558_0028f84b73b9row8_col1\" class=\"data row8 col1\" >2</td>\n",
       "            </tr>\n",
       "    </tbody></table>"
      ],
      "text/plain": [
       "<pandas.io.formats.style.Styler at 0x7f9012141c18>"
      ]
     },
     "execution_count": 46,
     "metadata": {},
     "output_type": "execute_result"
    }
   ],
   "source": [
    "display_dataframe(data['embarked_class'].value_counts().reset_index().rename({'index':'embarked_class',\n",
    "                                                                              'embarked_class': 'count'}, axis=1))"
   ]
  },
  {
   "cell_type": "code",
   "execution_count": 47,
   "metadata": {
    "hidden": true
   },
   "outputs": [
    {
     "data": {
      "text/html": [
       "<style  type=\"text/css\" >\n",
       "    #T_74535bf9_5961_11ea_9558_0028f84b73b9 th {\n",
       "          font-size: 12pt;\n",
       "    }    #T_74535bf9_5961_11ea_9558_0028f84b73b9 td {\n",
       "          font-size: 12pt;\n",
       "    }    #T_74535bf9_5961_11ea_9558_0028f84b73b9 tr:hover td:hover {\n",
       "          max-width: 200px;\n",
       "          font-size: 12pt;\n",
       "    }</style><table id=\"T_74535bf9_5961_11ea_9558_0028f84b73b9\" ><thead>    <tr>        <th class=\"col_heading level0 col0\" >age_sex_class</th>        <th class=\"col_heading level0 col1\" >count</th>    </tr></thead><tbody>\n",
       "                <tr>\n",
       "                                <td id=\"T_74535bf9_5961_11ea_9558_0028f84b73b9row0_col0\" class=\"data row0 col0\" >male3(16.336, 32.252]</td>\n",
       "                        <td id=\"T_74535bf9_5961_11ea_9558_0028f84b73b9row0_col1\" class=\"data row0 col1\" >151</td>\n",
       "            </tr>\n",
       "            <tr>\n",
       "                                <td id=\"T_74535bf9_5961_11ea_9558_0028f84b73b9row1_col0\" class=\"data row1 col0\" >male3nan</td>\n",
       "                        <td id=\"T_74535bf9_5961_11ea_9558_0028f84b73b9row1_col1\" class=\"data row1 col1\" >94</td>\n",
       "            </tr>\n",
       "            <tr>\n",
       "                                <td id=\"T_74535bf9_5961_11ea_9558_0028f84b73b9row2_col0\" class=\"data row2 col0\" >male3(32.252, 48.168]</td>\n",
       "                        <td id=\"T_74535bf9_5961_11ea_9558_0028f84b73b9row2_col1\" class=\"data row2 col1\" >54</td>\n",
       "            </tr>\n",
       "            <tr>\n",
       "                                <td id=\"T_74535bf9_5961_11ea_9558_0028f84b73b9row3_col0\" class=\"data row3 col0\" >female3(16.336, 32.252]</td>\n",
       "                        <td id=\"T_74535bf9_5961_11ea_9558_0028f84b73b9row3_col1\" class=\"data row3 col1\" >52</td>\n",
       "            </tr>\n",
       "            <tr>\n",
       "                                <td id=\"T_74535bf9_5961_11ea_9558_0028f84b73b9row4_col0\" class=\"data row4 col0\" >male2(16.336, 32.252]</td>\n",
       "                        <td id=\"T_74535bf9_5961_11ea_9558_0028f84b73b9row4_col1\" class=\"data row4 col1\" >48</td>\n",
       "            </tr>\n",
       "            <tr>\n",
       "                                <td id=\"T_74535bf9_5961_11ea_9558_0028f84b73b9row5_col0\" class=\"data row5 col0\" >female3nan</td>\n",
       "                        <td id=\"T_74535bf9_5961_11ea_9558_0028f84b73b9row5_col1\" class=\"data row5 col1\" >42</td>\n",
       "            </tr>\n",
       "            <tr>\n",
       "                                <td id=\"T_74535bf9_5961_11ea_9558_0028f84b73b9row6_col0\" class=\"data row6 col0\" >male1(32.252, 48.168]</td>\n",
       "                        <td id=\"T_74535bf9_5961_11ea_9558_0028f84b73b9row6_col1\" class=\"data row6 col1\" >39</td>\n",
       "            </tr>\n",
       "            <tr>\n",
       "                                <td id=\"T_74535bf9_5961_11ea_9558_0028f84b73b9row7_col0\" class=\"data row7 col0\" >male3(0.34, 16.336]</td>\n",
       "                        <td id=\"T_74535bf9_5961_11ea_9558_0028f84b73b9row7_col1\" class=\"data row7 col1\" >37</td>\n",
       "            </tr>\n",
       "            <tr>\n",
       "                                <td id=\"T_74535bf9_5961_11ea_9558_0028f84b73b9row8_col0\" class=\"data row8 col0\" >female2(16.336, 32.252]</td>\n",
       "                        <td id=\"T_74535bf9_5961_11ea_9558_0028f84b73b9row8_col1\" class=\"data row8 col1\" >36</td>\n",
       "            </tr>\n",
       "            <tr>\n",
       "                                <td id=\"T_74535bf9_5961_11ea_9558_0028f84b73b9row9_col0\" class=\"data row9 col0\" >female3(0.34, 16.336]</td>\n",
       "                        <td id=\"T_74535bf9_5961_11ea_9558_0028f84b73b9row9_col1\" class=\"data row9 col1\" >33</td>\n",
       "            </tr>\n",
       "    </tbody></table>"
      ],
      "text/plain": [
       "<pandas.io.formats.style.Styler at 0x7f9012141550>"
      ]
     },
     "execution_count": 47,
     "metadata": {},
     "output_type": "execute_result"
    }
   ],
   "source": [
    "display_dataframe(data['age_sex_class'].value_counts().reset_index().rename({'index':'age_sex_class',\n",
    "                                                           'age_sex_class': 'count'}, axis=1).head(10))"
   ]
  },
  {
   "cell_type": "markdown",
   "metadata": {
    "hidden": true
   },
   "source": [
    "**Don't forget we can mean encode categorical feature interactions too!!**\n",
    "\n",
    "#### Find important features\n",
    "I like using LightGBM for this as it sets the importance of useless features to 0."
   ]
  },
  {
   "cell_type": "code",
   "execution_count": 48,
   "metadata": {
    "hidden": true
   },
   "outputs": [],
   "source": [
    "features = ['max_age', 'min_age', 'median_age', 'max_fare', 'min_fare',\n",
    "            'median_fare', 'max_fare_emb', 'min_fare_emb', 'median_fare_emb',\n",
    "            'n0_survived', 'n0_class', 'n0_fare', 'n0_sex', 'n0_age',\n",
    "           'n0_dist', 'n1_survived', 'n1_class', 'n1_fare', 'n1_sex', 'n1_age',\n",
    "           'n1_dist', 'embarked_class', 'sex_class', 'age_buckets',\n",
    "           'age_sex_class', 'Pclass', 'Sex', 'Fare', 'Age']"
   ]
  },
  {
   "cell_type": "code",
   "execution_count": 49,
   "metadata": {
    "hidden": true
   },
   "outputs": [],
   "source": [
    "categorical = list(data[features].select_dtypes(include=object).columns)\n",
    "\n",
    "for feature in categorical + ['age_buckets']:\n",
    "    vals = data[feature].unique()\n",
    "    mapping = {v: i for i, v in enumerate(vals)}\n",
    "    data[feature] = data[feature].apply(lambda v : mapping.get(v, -1))\n",
    "\n",
    "data['age_buckets'] = data['age_buckets'].astype(float)\n",
    "\n",
    "clf = LGBMClassifier().fit(data[features], data['Survived'])"
   ]
  },
  {
   "cell_type": "code",
   "execution_count": 50,
   "metadata": {
    "hidden": true
   },
   "outputs": [
    {
     "data": {
      "text/html": [
       "<style  type=\"text/css\" >\n",
       "    #T_74535bfa_5961_11ea_9558_0028f84b73b9 th {\n",
       "          font-size: 12pt;\n",
       "    }    #T_74535bfa_5961_11ea_9558_0028f84b73b9 td {\n",
       "          font-size: 12pt;\n",
       "    }    #T_74535bfa_5961_11ea_9558_0028f84b73b9 tr:hover td:hover {\n",
       "          max-width: 200px;\n",
       "          font-size: 12pt;\n",
       "    }</style><table id=\"T_74535bfa_5961_11ea_9558_0028f84b73b9\" ><thead>    <tr>        <th class=\"col_heading level0 col0\" >feature name</th>        <th class=\"col_heading level0 col1\" >importance</th>    </tr></thead><tbody>\n",
       "                <tr>\n",
       "                                <td id=\"T_74535bfa_5961_11ea_9558_0028f84b73b9row0_col0\" class=\"data row0 col0\" >Age</td>\n",
       "                        <td id=\"T_74535bfa_5961_11ea_9558_0028f84b73b9row0_col1\" class=\"data row0 col1\" >472</td>\n",
       "            </tr>\n",
       "            <tr>\n",
       "                                <td id=\"T_74535bfa_5961_11ea_9558_0028f84b73b9row1_col0\" class=\"data row1 col0\" >Fare</td>\n",
       "                        <td id=\"T_74535bfa_5961_11ea_9558_0028f84b73b9row1_col1\" class=\"data row1 col1\" >450</td>\n",
       "            </tr>\n",
       "            <tr>\n",
       "                                <td id=\"T_74535bfa_5961_11ea_9558_0028f84b73b9row2_col0\" class=\"data row2 col0\" >n1_age</td>\n",
       "                        <td id=\"T_74535bfa_5961_11ea_9558_0028f84b73b9row2_col1\" class=\"data row2 col1\" >299</td>\n",
       "            </tr>\n",
       "            <tr>\n",
       "                                <td id=\"T_74535bfa_5961_11ea_9558_0028f84b73b9row3_col0\" class=\"data row3 col0\" >n0_age</td>\n",
       "                        <td id=\"T_74535bfa_5961_11ea_9558_0028f84b73b9row3_col1\" class=\"data row3 col1\" >285</td>\n",
       "            </tr>\n",
       "            <tr>\n",
       "                                <td id=\"T_74535bfa_5961_11ea_9558_0028f84b73b9row4_col0\" class=\"data row4 col0\" >n0_dist</td>\n",
       "                        <td id=\"T_74535bfa_5961_11ea_9558_0028f84b73b9row4_col1\" class=\"data row4 col1\" >275</td>\n",
       "            </tr>\n",
       "            <tr>\n",
       "                                <td id=\"T_74535bfa_5961_11ea_9558_0028f84b73b9row5_col0\" class=\"data row5 col0\" >n1_dist</td>\n",
       "                        <td id=\"T_74535bfa_5961_11ea_9558_0028f84b73b9row5_col1\" class=\"data row5 col1\" >264</td>\n",
       "            </tr>\n",
       "            <tr>\n",
       "                                <td id=\"T_74535bfa_5961_11ea_9558_0028f84b73b9row6_col0\" class=\"data row6 col0\" >n1_fare</td>\n",
       "                        <td id=\"T_74535bfa_5961_11ea_9558_0028f84b73b9row6_col1\" class=\"data row6 col1\" >206</td>\n",
       "            </tr>\n",
       "            <tr>\n",
       "                                <td id=\"T_74535bfa_5961_11ea_9558_0028f84b73b9row7_col0\" class=\"data row7 col0\" >n0_fare</td>\n",
       "                        <td id=\"T_74535bfa_5961_11ea_9558_0028f84b73b9row7_col1\" class=\"data row7 col1\" >205</td>\n",
       "            </tr>\n",
       "            <tr>\n",
       "                                <td id=\"T_74535bfa_5961_11ea_9558_0028f84b73b9row8_col0\" class=\"data row8 col0\" >age_sex_class</td>\n",
       "                        <td id=\"T_74535bfa_5961_11ea_9558_0028f84b73b9row8_col1\" class=\"data row8 col1\" >123</td>\n",
       "            </tr>\n",
       "            <tr>\n",
       "                                <td id=\"T_74535bfa_5961_11ea_9558_0028f84b73b9row9_col0\" class=\"data row9 col0\" >embarked_class</td>\n",
       "                        <td id=\"T_74535bfa_5961_11ea_9558_0028f84b73b9row9_col1\" class=\"data row9 col1\" >69</td>\n",
       "            </tr>\n",
       "            <tr>\n",
       "                                <td id=\"T_74535bfa_5961_11ea_9558_0028f84b73b9row10_col0\" class=\"data row10 col0\" >Sex</td>\n",
       "                        <td id=\"T_74535bfa_5961_11ea_9558_0028f84b73b9row10_col1\" class=\"data row10 col1\" >61</td>\n",
       "            </tr>\n",
       "            <tr>\n",
       "                                <td id=\"T_74535bfa_5961_11ea_9558_0028f84b73b9row11_col0\" class=\"data row11 col0\" >n1_survived</td>\n",
       "                        <td id=\"T_74535bfa_5961_11ea_9558_0028f84b73b9row11_col1\" class=\"data row11 col1\" >39</td>\n",
       "            </tr>\n",
       "            <tr>\n",
       "                                <td id=\"T_74535bfa_5961_11ea_9558_0028f84b73b9row12_col0\" class=\"data row12 col0\" >n1_class</td>\n",
       "                        <td id=\"T_74535bfa_5961_11ea_9558_0028f84b73b9row12_col1\" class=\"data row12 col1\" >34</td>\n",
       "            </tr>\n",
       "            <tr>\n",
       "                                <td id=\"T_74535bfa_5961_11ea_9558_0028f84b73b9row13_col0\" class=\"data row13 col0\" >age_buckets</td>\n",
       "                        <td id=\"T_74535bfa_5961_11ea_9558_0028f84b73b9row13_col1\" class=\"data row13 col1\" >33</td>\n",
       "            </tr>\n",
       "            <tr>\n",
       "                                <td id=\"T_74535bfa_5961_11ea_9558_0028f84b73b9row14_col0\" class=\"data row14 col0\" >n0_survived</td>\n",
       "                        <td id=\"T_74535bfa_5961_11ea_9558_0028f84b73b9row14_col1\" class=\"data row14 col1\" >30</td>\n",
       "            </tr>\n",
       "            <tr>\n",
       "                                <td id=\"T_74535bfa_5961_11ea_9558_0028f84b73b9row15_col0\" class=\"data row15 col0\" >sex_class</td>\n",
       "                        <td id=\"T_74535bfa_5961_11ea_9558_0028f84b73b9row15_col1\" class=\"data row15 col1\" >28</td>\n",
       "            </tr>\n",
       "            <tr>\n",
       "                                <td id=\"T_74535bfa_5961_11ea_9558_0028f84b73b9row16_col0\" class=\"data row16 col0\" >n0_class</td>\n",
       "                        <td id=\"T_74535bfa_5961_11ea_9558_0028f84b73b9row16_col1\" class=\"data row16 col1\" >26</td>\n",
       "            </tr>\n",
       "            <tr>\n",
       "                                <td id=\"T_74535bfa_5961_11ea_9558_0028f84b73b9row17_col0\" class=\"data row17 col0\" >min_age</td>\n",
       "                        <td id=\"T_74535bfa_5961_11ea_9558_0028f84b73b9row17_col1\" class=\"data row17 col1\" >26</td>\n",
       "            </tr>\n",
       "            <tr>\n",
       "                                <td id=\"T_74535bfa_5961_11ea_9558_0028f84b73b9row18_col0\" class=\"data row18 col0\" >max_fare_emb</td>\n",
       "                        <td id=\"T_74535bfa_5961_11ea_9558_0028f84b73b9row18_col1\" class=\"data row18 col1\" >20</td>\n",
       "            </tr>\n",
       "            <tr>\n",
       "                                <td id=\"T_74535bfa_5961_11ea_9558_0028f84b73b9row19_col0\" class=\"data row19 col0\" >min_fare_emb</td>\n",
       "                        <td id=\"T_74535bfa_5961_11ea_9558_0028f84b73b9row19_col1\" class=\"data row19 col1\" >18</td>\n",
       "            </tr>\n",
       "            <tr>\n",
       "                                <td id=\"T_74535bfa_5961_11ea_9558_0028f84b73b9row20_col0\" class=\"data row20 col0\" >max_age</td>\n",
       "                        <td id=\"T_74535bfa_5961_11ea_9558_0028f84b73b9row20_col1\" class=\"data row20 col1\" >16</td>\n",
       "            </tr>\n",
       "            <tr>\n",
       "                                <td id=\"T_74535bfa_5961_11ea_9558_0028f84b73b9row21_col0\" class=\"data row21 col0\" >n0_sex</td>\n",
       "                        <td id=\"T_74535bfa_5961_11ea_9558_0028f84b73b9row21_col1\" class=\"data row21 col1\" >11</td>\n",
       "            </tr>\n",
       "            <tr>\n",
       "                                <td id=\"T_74535bfa_5961_11ea_9558_0028f84b73b9row22_col0\" class=\"data row22 col0\" >Pclass</td>\n",
       "                        <td id=\"T_74535bfa_5961_11ea_9558_0028f84b73b9row22_col1\" class=\"data row22 col1\" >6</td>\n",
       "            </tr>\n",
       "            <tr>\n",
       "                                <td id=\"T_74535bfa_5961_11ea_9558_0028f84b73b9row23_col0\" class=\"data row23 col0\" >n1_sex</td>\n",
       "                        <td id=\"T_74535bfa_5961_11ea_9558_0028f84b73b9row23_col1\" class=\"data row23 col1\" >3</td>\n",
       "            </tr>\n",
       "            <tr>\n",
       "                                <td id=\"T_74535bfa_5961_11ea_9558_0028f84b73b9row24_col0\" class=\"data row24 col0\" >max_fare</td>\n",
       "                        <td id=\"T_74535bfa_5961_11ea_9558_0028f84b73b9row24_col1\" class=\"data row24 col1\" >0</td>\n",
       "            </tr>\n",
       "            <tr>\n",
       "                                <td id=\"T_74535bfa_5961_11ea_9558_0028f84b73b9row25_col0\" class=\"data row25 col0\" >min_fare</td>\n",
       "                        <td id=\"T_74535bfa_5961_11ea_9558_0028f84b73b9row25_col1\" class=\"data row25 col1\" >0</td>\n",
       "            </tr>\n",
       "            <tr>\n",
       "                                <td id=\"T_74535bfa_5961_11ea_9558_0028f84b73b9row26_col0\" class=\"data row26 col0\" >median_fare_emb</td>\n",
       "                        <td id=\"T_74535bfa_5961_11ea_9558_0028f84b73b9row26_col1\" class=\"data row26 col1\" >0</td>\n",
       "            </tr>\n",
       "            <tr>\n",
       "                                <td id=\"T_74535bfa_5961_11ea_9558_0028f84b73b9row27_col0\" class=\"data row27 col0\" >median_age</td>\n",
       "                        <td id=\"T_74535bfa_5961_11ea_9558_0028f84b73b9row27_col1\" class=\"data row27 col1\" >0</td>\n",
       "            </tr>\n",
       "            <tr>\n",
       "                                <td id=\"T_74535bfa_5961_11ea_9558_0028f84b73b9row28_col0\" class=\"data row28 col0\" >median_fare</td>\n",
       "                        <td id=\"T_74535bfa_5961_11ea_9558_0028f84b73b9row28_col1\" class=\"data row28 col1\" >0</td>\n",
       "            </tr>\n",
       "    </tbody></table>"
      ],
      "text/plain": [
       "<pandas.io.formats.style.Styler at 0x7f9012235668>"
      ]
     },
     "execution_count": 50,
     "metadata": {},
     "output_type": "execute_result"
    }
   ],
   "source": [
    "display_dataframe(pd.DataFrame({'importance': clf.feature_importances_},\n",
    "             index=features).sort_values('importance', ascending=False).\\\n",
    "                  reset_index().rename({'index': 'feature name'}, axis=1))"
   ]
  },
  {
   "cell_type": "markdown",
   "metadata": {
    "heading_collapsed": true
   },
   "source": [
    "### 8. Sparse feature selection"
   ]
  },
  {
   "cell_type": "markdown",
   "metadata": {
    "hidden": true
   },
   "source": [
    "There are several lossy techniques as RandomProjections, SVD, PCA etc. The approach proposed here applies well to sparse features with very high dimensionality where a lot of the features are likely to be redundant."
   ]
  },
  {
   "cell_type": "code",
   "execution_count": 51,
   "metadata": {
    "hidden": true
   },
   "outputs": [],
   "source": [
    "clf = LGBMClassifier().fit(name_vectorized, data['Survived'])"
   ]
  },
  {
   "cell_type": "code",
   "execution_count": 52,
   "metadata": {
    "hidden": true
   },
   "outputs": [
    {
     "name": "stdout",
     "output_type": "stream",
     "text": [
      "Only 0.73% of features have non zero importance\n"
     ]
    }
   ],
   "source": [
    "prop_important_features =(clf.feature_importances_ > 0).mean()\n",
    "print (f'Only {prop_important_features*100:.2f}% of features have non zero importance')"
   ]
  },
  {
   "cell_type": "code",
   "execution_count": 53,
   "metadata": {
    "hidden": true
   },
   "outputs": [],
   "source": [
    "vocabulary = {v:k for k,v in tfidf.vocabulary_.items()}"
   ]
  },
  {
   "cell_type": "code",
   "execution_count": 54,
   "metadata": {
    "hidden": true
   },
   "outputs": [],
   "source": [
    "vocabulary_importance = pd.Series(clf.feature_importances_, \n",
    "                      index =[vocabulary[i] for i in range(len(vocabulary))])"
   ]
  },
  {
   "cell_type": "code",
   "execution_count": 55,
   "metadata": {
    "hidden": true
   },
   "outputs": [
    {
     "data": {
      "text/html": [
       "<style  type=\"text/css\" >\n",
       "    #T_74535bfb_5961_11ea_9558_0028f84b73b9 th {\n",
       "          font-size: 12pt;\n",
       "    }    #T_74535bfb_5961_11ea_9558_0028f84b73b9 td {\n",
       "          font-size: 12pt;\n",
       "    }    #T_74535bfb_5961_11ea_9558_0028f84b73b9 tr:hover td:hover {\n",
       "          max-width: 200px;\n",
       "          font-size: 12pt;\n",
       "    }</style><table id=\"T_74535bfb_5961_11ea_9558_0028f84b73b9\" ><thead>    <tr>        <th class=\"col_heading level0 col0\" >words</th>        <th class=\"col_heading level0 col1\" >importance</th>    </tr></thead><tbody>\n",
       "                <tr>\n",
       "                                <td id=\"T_74535bfb_5961_11ea_9558_0028f84b73b9row0_col0\" class=\"data row0 col0\" >charles</td>\n",
       "                        <td id=\"T_74535bfb_5961_11ea_9558_0028f84b73b9row0_col1\" class=\"data row0 col1\" >7</td>\n",
       "            </tr>\n",
       "            <tr>\n",
       "                                <td id=\"T_74535bfb_5961_11ea_9558_0028f84b73b9row1_col0\" class=\"data row1 col0\" >george</td>\n",
       "                        <td id=\"T_74535bfb_5961_11ea_9558_0028f84b73b9row1_col1\" class=\"data row1 col1\" >10</td>\n",
       "            </tr>\n",
       "            <tr>\n",
       "                                <td id=\"T_74535bfb_5961_11ea_9558_0028f84b73b9row2_col0\" class=\"data row2 col0\" >henry</td>\n",
       "                        <td id=\"T_74535bfb_5961_11ea_9558_0028f84b73b9row2_col1\" class=\"data row2 col1\" >57</td>\n",
       "            </tr>\n",
       "            <tr>\n",
       "                                <td id=\"T_74535bfb_5961_11ea_9558_0028f84b73b9row3_col0\" class=\"data row3 col0\" >james</td>\n",
       "                        <td id=\"T_74535bfb_5961_11ea_9558_0028f84b73b9row3_col1\" class=\"data row3 col1\" >19</td>\n",
       "            </tr>\n",
       "            <tr>\n",
       "                                <td id=\"T_74535bfb_5961_11ea_9558_0028f84b73b9row4_col0\" class=\"data row4 col0\" >john</td>\n",
       "                        <td id=\"T_74535bfb_5961_11ea_9558_0028f84b73b9row4_col1\" class=\"data row4 col1\" >84</td>\n",
       "            </tr>\n",
       "            <tr>\n",
       "                                <td id=\"T_74535bfb_5961_11ea_9558_0028f84b73b9row5_col0\" class=\"data row5 col0\" >master</td>\n",
       "                        <td id=\"T_74535bfb_5961_11ea_9558_0028f84b73b9row5_col1\" class=\"data row5 col1\" >100</td>\n",
       "            </tr>\n",
       "            <tr>\n",
       "                                <td id=\"T_74535bfb_5961_11ea_9558_0028f84b73b9row6_col0\" class=\"data row6 col0\" >miss</td>\n",
       "                        <td id=\"T_74535bfb_5961_11ea_9558_0028f84b73b9row6_col1\" class=\"data row6 col1\" >608</td>\n",
       "            </tr>\n",
       "            <tr>\n",
       "                                <td id=\"T_74535bfb_5961_11ea_9558_0028f84b73b9row7_col0\" class=\"data row7 col0\" >mr</td>\n",
       "                        <td id=\"T_74535bfb_5961_11ea_9558_0028f84b73b9row7_col1\" class=\"data row7 col1\" >1422</td>\n",
       "            </tr>\n",
       "            <tr>\n",
       "                                <td id=\"T_74535bfb_5961_11ea_9558_0028f84b73b9row8_col0\" class=\"data row8 col0\" >mrs</td>\n",
       "                        <td id=\"T_74535bfb_5961_11ea_9558_0028f84b73b9row8_col1\" class=\"data row8 col1\" >406</td>\n",
       "            </tr>\n",
       "            <tr>\n",
       "                                <td id=\"T_74535bfb_5961_11ea_9558_0028f84b73b9row9_col0\" class=\"data row9 col0\" >thomas</td>\n",
       "                        <td id=\"T_74535bfb_5961_11ea_9558_0028f84b73b9row9_col1\" class=\"data row9 col1\" >2</td>\n",
       "            </tr>\n",
       "            <tr>\n",
       "                                <td id=\"T_74535bfb_5961_11ea_9558_0028f84b73b9row10_col0\" class=\"data row10 col0\" >william</td>\n",
       "                        <td id=\"T_74535bfb_5961_11ea_9558_0028f84b73b9row10_col1\" class=\"data row10 col1\" >107</td>\n",
       "            </tr>\n",
       "    </tbody></table>"
      ],
      "text/plain": [
       "<pandas.io.formats.style.Styler at 0x7f90121417b8>"
      ]
     },
     "execution_count": 55,
     "metadata": {},
     "output_type": "execute_result"
    }
   ],
   "source": [
    "vi = vocabulary_importance[vocabulary_importance > 0]\n",
    "display_dataframe(pd.DataFrame({'words': vi.index, 'importance': vi.values}))"
   ]
  }
 ],
 "metadata": {
  "kernelspec": {
   "display_name": "Python 3",
   "language": "python",
   "name": "python3"
  },
  "language_info": {
   "codemirror_mode": {
    "name": "ipython",
    "version": 3
   },
   "file_extension": ".py",
   "mimetype": "text/x-python",
   "name": "python",
   "nbconvert_exporter": "python",
   "pygments_lexer": "ipython3",
   "version": "3.6.2"
  }
 },
 "nbformat": 4,
 "nbformat_minor": 2
}
