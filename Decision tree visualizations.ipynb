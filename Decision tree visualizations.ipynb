{
 "cells": [
  {
   "cell_type": "markdown",
   "metadata": {},
   "source": [
    "## How decision trees behave with different types of encoding\n",
    "This example comes from [here](https://github.com/groverpr/Machine-Learning/blob/master/catboost/ohc_dtreeviz.ipynb)"
   ]
  },
  {
   "cell_type": "markdown",
   "metadata": {},
   "source": [
    "### Imports"
   ]
  },
  {
   "cell_type": "code",
   "execution_count": 1,
   "metadata": {},
   "outputs": [],
   "source": [
    "from sklearn.datasets import *\n",
    "from sklearn import tree\n",
    "from dtreeviz.trees import *\n",
    "import pandas as pd\n",
    "import numpy as np\n",
    "from sklearn.preprocessing import OneHotEncoder"
   ]
  },
  {
   "cell_type": "markdown",
   "metadata": {},
   "source": [
    "### Data creation"
   ]
  },
  {
   "cell_type": "markdown",
   "metadata": {},
   "source": [
    "Artificial dataset of size 1000 with one categorical variable. There are 100 different categories and target equals 1 for 10 of them and 0 for all others. **There is no noise in the dataset**"
   ]
  },
  {
   "cell_type": "markdown",
   "metadata": {},
   "source": [
    "#### Code"
   ]
  },
  {
   "cell_type": "code",
   "execution_count": 2,
   "metadata": {},
   "outputs": [],
   "source": [
    "binary_feature_with_high_cardinality = np.random.randint(0, 100, 1000)  # 100 cateogries for 1000 observations\n",
    "X = pd.DataFrame({\"x\": binary_feature_with_high_cardinality})\n",
    "\n",
    "# target_labels = np.random.binomial(1, 0.5, size=1000)  # 0 or 1 with 50-50 ratio"
   ]
  },
  {
   "cell_type": "code",
   "execution_count": 3,
   "metadata": {},
   "outputs": [
    {
     "data": {
      "text/plain": [
       "array([ 0., 11., 22., 33., 44., 55., 66., 77., 88., 99.])"
      ]
     },
     "execution_count": 3,
     "metadata": {},
     "output_type": "execute_result"
    }
   ],
   "source": [
    "np.linspace(0,99,10)"
   ]
  },
  {
   "cell_type": "code",
   "execution_count": 4,
   "metadata": {},
   "outputs": [],
   "source": [
    "target = []\n",
    "for i in binary_feature_with_high_cardinality:\n",
    "    if i in np.linspace(0,99,10):\n",
    "        target.append(1)\n",
    "    else: \n",
    "        target.append(0)\n",
    "        \n",
    "target = np.array(target)"
   ]
  },
  {
   "cell_type": "code",
   "execution_count": 5,
   "metadata": {},
   "outputs": [
    {
     "data": {
      "text/plain": [
       "103"
      ]
     },
     "execution_count": 5,
     "metadata": {},
     "output_type": "execute_result"
    }
   ],
   "source": [
    "sum(target)"
   ]
  },
  {
   "cell_type": "markdown",
   "metadata": {},
   "source": [
    "### Label encoding"
   ]
  },
  {
   "cell_type": "markdown",
   "metadata": {},
   "source": [
    "Nothing to do here, categories are already label encoded."
   ]
  },
  {
   "cell_type": "code",
   "execution_count": 6,
   "metadata": {},
   "outputs": [
    {
     "name": "stderr",
     "output_type": "stream",
     "text": [
      "/home/kv-dimitrov/.pyenv/versions/3.6.2/envs/generic/lib/python3.6/site-packages/matplotlib/font_manager.py:1241: UserWarning: findfont: Font family ['Arial'] not found. Falling back to DejaVu Sans.\n",
      "  (prop.get_family(), self.defaultFamily[fontext]))\n"
     ]
    }
   ],
   "source": [
    "classifier = tree.DecisionTreeClassifier(max_depth=5)  # limit depth of tree\n",
    "classifier.fit(X, target)\n",
    "\n",
    "viz = dtreeviz(classifier, \n",
    "               X, \n",
    "               target,\n",
    "               target_name='target',\n",
    "              feature_names= ['feature'],\n",
    "              class_names = [\"label-0\", \"label-1\"]  # need class_names for classifier\n",
    "              )  \n",
    "              \n",
    "viz.view()"
   ]
  },
  {
   "cell_type": "markdown",
   "metadata": {},
   "source": [
    "### One Hot Encoding"
   ]
  },
  {
   "cell_type": "code",
   "execution_count": 7,
   "metadata": {},
   "outputs": [],
   "source": [
    "enc = OneHotEncoder(handle_unknown='ignore')\n",
    "enc.fit(X)\n",
    "X_ohc = enc.transform(X)\n",
    "X_ohc = pd.DataFrame(X_ohc.toarray())"
   ]
  },
  {
   "cell_type": "code",
   "execution_count": 8,
   "metadata": {
    "scrolled": false
   },
   "outputs": [],
   "source": [
    "classifier = tree.DecisionTreeClassifier(max_depth=5)  # limit depth of tree\n",
    "classifier.fit(X_ohc.values, target)\n",
    "\n",
    "viz = dtreeviz(classifier, \n",
    "               X_ohc, \n",
    "               target,\n",
    "               target_name='target',\n",
    "              feature_names= [f'{c}_feature' for c in X_ohc.columns],\n",
    "              class_names = [\"label-0\", \"label-1\"]  # need class_names for classifier\n",
    "              )  \n",
    "              \n",
    "viz.view()"
   ]
  },
  {
   "cell_type": "markdown",
   "metadata": {},
   "source": [
    "### K-Fold Target Encoding"
   ]
  },
  {
   "cell_type": "code",
   "execution_count": 9,
   "metadata": {},
   "outputs": [],
   "source": [
    "from category_encoders.target_encoder import TargetEncoder\n",
    "from sklearn.model_selection import KFold"
   ]
  },
  {
   "cell_type": "code",
   "execution_count": 10,
   "metadata": {},
   "outputs": [],
   "source": [
    "encoder = TargetEncoder(cols=\"x\")\n",
    "encoder.fit(X, target)\n",
    "X_encode = encoder.transform(X, target)"
   ]
  },
  {
   "cell_type": "code",
   "execution_count": 11,
   "metadata": {},
   "outputs": [],
   "source": [
    "classifier = tree.DecisionTreeClassifier(max_depth=5)  # limit depth of tree\n",
    "classifier.fit(X_encode, target)\n",
    "\n",
    "viz = dtreeviz(classifier, \n",
    "               X_encode, \n",
    "               target,\n",
    "               target_name='target',\n",
    "              feature_names= X_encode.columns, \n",
    "              class_names = [\"label-0\", \"label-1\"]  # need class_names for classifier\n",
    "              )  \n",
    "              \n",
    "viz.view()"
   ]
  },
  {
   "cell_type": "markdown",
   "metadata": {},
   "source": [
    "### Catboost Encoding"
   ]
  },
  {
   "cell_type": "code",
   "execution_count": 12,
   "metadata": {},
   "outputs": [],
   "source": [
    "def catboost_target_encoder(train, cols_encode, target):\n",
    "    train_new = train.copy()\n",
    "    for column in cols_encode:\n",
    "        global_mean = train[target].mean()\n",
    "        cumulative_sum = train.groupby(column)[target].cumsum() - train[target]\n",
    "        cumulative_count = train.groupby(column).cumcount()\n",
    "        train_new[column + \"_cat_mean_target\"] = cumulative_sum/cumulative_count\n",
    "        train_new[column + \"_cat_mean_target\"].fillna(global_mean, inplace=True)\n",
    "    return train_new"
   ]
  },
  {
   "cell_type": "code",
   "execution_count": 13,
   "metadata": {},
   "outputs": [],
   "source": [
    "X_cat = catboost_target_encoder(pd.concat([X, pd.DataFrame({\"y\":target})], axis=1), \"x\", \"y\")\n",
    "X_cat = pd.DataFrame({\"x\": X_cat[\"x_cat_mean_target\"]})"
   ]
  },
  {
   "cell_type": "code",
   "execution_count": 14,
   "metadata": {},
   "outputs": [],
   "source": [
    "classifier = tree.DecisionTreeClassifier(max_depth=5)  # limit depth of tree\n",
    "classifier.fit(X_cat, target)\n",
    "\n",
    "viz = dtreeviz(classifier, \n",
    "               X_cat, \n",
    "               target,\n",
    "               target_name='target',\n",
    "              feature_names= \"x\", \n",
    "              class_names = [\"label-0\", \"label-1\"]  # need class_names for classifier\n",
    "              )  \n",
    "              \n",
    "viz.view()"
   ]
  },
  {
   "cell_type": "code",
   "execution_count": null,
   "metadata": {},
   "outputs": [],
   "source": []
  }
 ],
 "metadata": {
  "kernelspec": {
   "display_name": "Python 3",
   "language": "python",
   "name": "python3"
  },
  "language_info": {
   "codemirror_mode": {
    "name": "ipython",
    "version": 3
   },
   "file_extension": ".py",
   "mimetype": "text/x-python",
   "name": "python",
   "nbconvert_exporter": "python",
   "pygments_lexer": "ipython3",
   "version": "3.6.2"
  }
 },
 "nbformat": 4,
 "nbformat_minor": 2
}
